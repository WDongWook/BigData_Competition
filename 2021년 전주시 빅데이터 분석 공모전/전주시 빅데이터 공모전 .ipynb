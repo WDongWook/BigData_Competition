{
 "cells": [
  {
   "cell_type": "markdown",
   "metadata": {},
   "source": [
    "## 전주시 신규 문화관광지역 활성화  + 낙후지역"
   ]
  },
  {
   "cell_type": "code",
   "execution_count": 1,
   "metadata": {},
   "outputs": [],
   "source": [
    "import pandas as pd\n",
    "import numpy as np \n",
    "import warnings\n",
    "warnings.filterwarnings('ignore')\n",
    "import os\n",
    "import seaborn as sns\n",
    "import matplotlib.pyplot as plt\n",
    "%matplotlib inline\n",
    "\n",
    "plt.rc('font',family = 'Malgun Gothic')\n",
    "plt.rc('axes',unicode_minus = False)\n",
    "\n",
    "import requests\n",
    "from bs4 import BeautifulSoup\n",
    "import time\n",
    "import urllib.request \n",
    "from selenium.webdriver import Chrome\n",
    "import re     \n",
    "from selenium.webdriver.chrome.options import Options\n",
    "from selenium.webdriver.common.keys import Keys\n",
    "from selenium.common.exceptions import NoSuchElementException,StaleElementReferenceException,ElementClickInterceptedException \n",
    "import datetime as dt\n",
    "from urllib.request import urlopen"
   ]
  },
  {
   "cell_type": "code",
   "execution_count": 2,
   "metadata": {},
   "outputs": [],
   "source": [
    "tour = pd.read_csv('관광지.csv')\n",
    "culture = pd.read_csv('문화시설.csv')\n",
    "many = pd.read_csv('여러개.csv')\n",
    "etc = pd.read_csv('기타.csv')\n",
    "food = pd.read_csv('음식.csv')\n",
    "experience = pd.read_csv('체험.csv')"
   ]
  },
  {
   "cell_type": "code",
   "execution_count": 3,
   "metadata": {},
   "outputs": [],
   "source": [
    "col_list = [tour, culture, many]\n",
    "\n",
    "for a in col_list :\n",
    "    a.rename(columns = {a.columns[0] : \"이름\"},inplace = True)"
   ]
  },
  {
   "cell_type": "code",
   "execution_count": 4,
   "metadata": {},
   "outputs": [],
   "source": [
    "total = pd.concat([pd.concat([tour,culture]),many])\n",
    "\n",
    "total2 = pd.concat([pd.concat([etc,food]),experience])"
   ]
  },
  {
   "cell_type": "code",
   "execution_count": 5,
   "metadata": {},
   "outputs": [],
   "source": [
    "total = pd.concat([total,total2]).reset_index(drop = True)"
   ]
  },
  {
   "cell_type": "code",
   "execution_count": 6,
   "metadata": {},
   "outputs": [],
   "source": [
    "total = total.drop_duplicates('이름').reset_index(drop = True)"
   ]
  },
  {
   "cell_type": "code",
   "execution_count": 7,
   "metadata": {},
   "outputs": [],
   "source": [
    "total.to_csv(\"total.csv\",index = False)"
   ]
  },
  {
   "cell_type": "code",
   "execution_count": 8,
   "metadata": {},
   "outputs": [
    {
     "name": "stdout",
     "output_type": "stream",
     "text": [
      "83\n"
     ]
    }
   ],
   "source": [
    "for i in range(len(total)):\n",
    "    if '주소' not in total['정보'][i] :\n",
    "        print(i)"
   ]
  },
  {
   "cell_type": "code",
   "execution_count": 9,
   "metadata": {},
   "outputs": [],
   "source": [
    "total['정보'][83] = '문의 및 안내 063-239-2546\\n홈페이지\\n관람석 장애인 전용 관람석 있음\\n엘리베이터 엘리베이터 있음\\n출입통로 주출입구는 단차가 없어 휠체어 접근 가능함\\n수유실 수유실 있음\\n주차 장애인 전용 주차구역 있음_무장애 편의시설\\n접근로 출입구까지 경사로가 설치되어 있음\\n화장실 장애인 전용 화장실 있음\\n주소 전라북도 전주시 덕진구 기린대로 1055'"
   ]
  },
  {
   "cell_type": "code",
   "execution_count": 10,
   "metadata": {},
   "outputs": [],
   "source": [
    "address = []\n",
    "for i in range(len(total)):\n",
    "    for info  in total['정보'][i].split('\\n') :\n",
    "        if '주소' in info :\n",
    "            address.append(info[3:])"
   ]
  },
  {
   "cell_type": "code",
   "execution_count": 11,
   "metadata": {},
   "outputs": [],
   "source": [
    "total['주소'] = address"
   ]
  },
  {
   "cell_type": "code",
   "execution_count": 12,
   "metadata": {},
   "outputs": [],
   "source": [
    "total['구'] = [ad.split(' ')[2] for ad in total['주소']]"
   ]
  },
  {
   "cell_type": "code",
   "execution_count": 102,
   "metadata": {},
   "outputs": [
    {
     "data": {
      "text/plain": [
       "<AxesSubplot:>"
      ]
     },
     "execution_count": 102,
     "metadata": {},
     "output_type": "execute_result"
    },
    {
     "data": {
      "image/png": "[encoded data removed]",
      "text/plain": [
       "<Figure size 432x288 with 1 Axes>"
      ]
     },
     "metadata": {
      "needs_background": "light"
     },
     "output_type": "display_data"
    }
   ],
   "source": [
    "total['구'].value_counts().plot.bar()"
   ]
  },
  {
   "cell_type": "code",
   "execution_count": 13,
   "metadata": {},
   "outputs": [],
   "source": [
    "cafe = pd.read_csv('전주시카페.csv')"
   ]
  },
  {
   "cell_type": "code",
   "execution_count": 14,
   "metadata": {},
   "outputs": [],
   "source": [
    "dong_list = [cafe['지번주소'][i].split(' ')[1] for i in range(len(cafe))]"
   ]
  },
  {
   "cell_type": "code",
   "execution_count": 15,
   "metadata": {},
   "outputs": [],
   "source": [
    "revise_list = []\n",
    "for dong in dong_list :\n",
    "    if dong.endswith('가') :\n",
    "        for i,a in enumerate(dong) :\n",
    "            if a== '동' :\n",
    "                revise_list.append(dong[:i+1])\n",
    "    else :\n",
    "        revise_list.append(dong)"
   ]
  },
  {
   "cell_type": "code",
   "execution_count": 16,
   "metadata": {},
   "outputs": [],
   "source": [
    "cafe['동'] = revise_list"
   ]
  },
  {
   "cell_type": "code",
   "execution_count": 153,
   "metadata": {},
   "outputs": [
    {
     "data": {
      "image/png": "[encoded data removed]",
      "text/plain": [
       "<Figure size 1080x432 with 1 Axes>"
      ]
     },
     "metadata": {
      "needs_background": "light"
     },
     "output_type": "display_data"
    }
   ],
   "source": [
    "plt.figure(figsize = (15,6))\n",
    "cafe['동'].value_counts().plot.bar()\n",
    "plt.title(\"동별 카페 현황\",fontsize = 15)\n",
    "plt.show()"
   ]
  },
  {
   "cell_type": "code",
   "execution_count": 2,
   "metadata": {},
   "outputs": [],
   "source": [
    "population = pd.read_excel('전주시_구·동별_연령_각세_별_한국인_현황_20210410105345.xlsx')"
   ]
  },
  {
   "cell_type": "code",
   "execution_count": 3,
   "metadata": {},
   "outputs": [],
   "source": [
    "columns = []\n",
    "for i in range(population.shape[1]) :\n",
    "    if i == 0 :\n",
    "        columns.append('연령별')\n",
    "    else :\n",
    "        columns.append(population.columns[i].split('.')[0] + '년_' + population.iloc[0,i] + '_' + population.iloc[1,i])"
   ]
  },
  {
   "cell_type": "code",
   "execution_count": 4,
   "metadata": {},
   "outputs": [],
   "source": [
    "population.columns = columns"
   ]
  },
  {
   "cell_type": "code",
   "execution_count": 5,
   "metadata": {},
   "outputs": [],
   "source": [
    "population = population.iloc[2:,:]"
   ]
  },
  {
   "cell_type": "code",
   "execution_count": 6,
   "metadata": {},
   "outputs": [],
   "source": [
    "population.set_index('연령별',inplace = True)"
   ]
  },
  {
   "cell_type": "code",
   "execution_count": 7,
   "metadata": {},
   "outputs": [],
   "source": [
    "population = population.replace('-',0)"
   ]
  },
  {
   "cell_type": "code",
   "execution_count": 8,
   "metadata": {},
   "outputs": [],
   "source": [
    "total_list = []\n",
    "man_list = []\n",
    "woman_list = []\n",
    "for col in population.columns :\n",
    "    if '계' in col :\n",
    "        total_list.append(col)\n",
    "    elif '남' in col :\n",
    "        man_list.append(col) \n",
    "    else :\n",
    "        woman_list.append(col)"
   ]
  },
  {
   "cell_type": "code",
   "execution_count": 9,
   "metadata": {},
   "outputs": [],
   "source": [
    "woman = pd.DataFrame(population[woman_list].iloc[4:8,:].sum(axis = 0))"
   ]
  },
  {
   "cell_type": "code",
   "execution_count": 10,
   "metadata": {},
   "outputs": [],
   "source": [
    "womand_list = []\n",
    "for index in woman.index :\n",
    "    womand_list.append(index[:-2])"
   ]
  },
  {
   "cell_type": "code",
   "execution_count": 11,
   "metadata": {},
   "outputs": [],
   "source": [
    "woman['동'] = womand_list"
   ]
  },
  {
   "cell_type": "code",
   "execution_count": 12,
   "metadata": {},
   "outputs": [],
   "source": [
    "woman.set_index('동',inplace =  True)"
   ]
  },
  {
   "cell_type": "code",
   "execution_count": 13,
   "metadata": {},
   "outputs": [],
   "source": [
    "woman.rename(columns = {0 : '20∼39세 여성 인구'},inplace = True)"
   ]
  },
  {
   "cell_type": "code",
   "execution_count": 14,
   "metadata": {},
   "outputs": [],
   "source": [
    "total = pd.DataFrame(population[total_list].iloc[13:,:].sum(axis = 0))"
   ]
  },
  {
   "cell_type": "code",
   "execution_count": 15,
   "metadata": {},
   "outputs": [],
   "source": [
    "totald_list = []\n",
    "for index in total.index :\n",
    "    totald_list.append(index[:-2])"
   ]
  },
  {
   "cell_type": "code",
   "execution_count": 16,
   "metadata": {},
   "outputs": [],
   "source": [
    "total['동'] = totald_list\n",
    "total.set_index(\"동\",inplace = True)\n",
    "total.rename(columns = {0 : \"65세이상 인구\"},inplace = True)"
   ]
  },
  {
   "attachments": {
    "image.png": {
     "image/png": "[encoded data removed]"
    }
   },
   "cell_type": "markdown",
   "metadata": {},
   "source": [
    "![image.png](attachment:image.png)"
   ]
  },
  {
   "cell_type": "code",
   "execution_count": 17,
   "metadata": {},
   "outputs": [],
   "source": [
    "list_2017,list_2018,list_2019 = [],[],[]\n",
    "for index in woman.index :\n",
    "    if '2017' in index : \n",
    "        list_2017.append(index)\n",
    "    elif '2018' in index :\n",
    "        list_2018.append(index)\n",
    "    else :\n",
    "        list_2019.append(index)"
   ]
  },
  {
   "cell_type": "code",
   "execution_count": 18,
   "metadata": {},
   "outputs": [],
   "source": [
    "lists_2017,lists_2018,lists_2019 = [],[],[]\n",
    "\n",
    "for index in total.index :\n",
    "    if '2017' in index and '풍남동' not in index: \n",
    "        lists_2017.append(index)\n",
    "    elif '2018' in index and '풍남동' not in index:\n",
    "        lists_2018.append(index)\n",
    "    elif '2019' in index and '풍남동' not in index:\n",
    "        lists_2019.append(index)"
   ]
  },
  {
   "cell_type": "code",
   "execution_count": 19,
   "metadata": {},
   "outputs": [],
   "source": [
    "dong_2017 = pd.concat([woman.loc[list_2017],total.loc[lists_2017]],axis = 1)\n",
    "dong_2017['소멸위험지수'] = dong_2017['20∼39세 여성 인구'] / dong_2017['65세이상 인구']"
   ]
  },
  {
   "cell_type": "markdown",
   "metadata": {},
   "source": [
    "지수가 0.5 미만이면 인구소멸 위험 지역, 0.2 미만이면 인구소멸 고위험 지역으로 간주한다."
   ]
  },
  {
   "cell_type": "code",
   "execution_count": 20,
   "metadata": {
    "scrolled": true
   },
   "outputs": [],
   "source": [
    "danger_2017 = dong_2017.sort_values(by='소멸위험지수')[:6].reset_index()[['동','소멸위험지수']]"
   ]
  },
  {
   "cell_type": "code",
   "execution_count": 21,
   "metadata": {
    "scrolled": true
   },
   "outputs": [
    {
     "data": {
      "text/html": [
       "<div>\n",
       "<style scoped>\n",
       "    .dataframe tbody tr th:only-of-type {\n",
       "        vertical-align: middle;\n",
       "    }\n",
       "\n",
       "    .dataframe tbody tr th {\n",
       "        vertical-align: top;\n",
       "    }\n",
       "\n",
       "    .dataframe thead th {\n",
       "        text-align: right;\n",
       "    }\n",
       "</style>\n",
       "<table border=\"1\" class=\"dataframe\">\n",
       "  <thead>\n",
       "    <tr style=\"text-align: right;\">\n",
       "      <th></th>\n",
       "      <th>20∼39세 여성 인구</th>\n",
       "      <th>65세이상 인구</th>\n",
       "      <th>소멸위험지수</th>\n",
       "    </tr>\n",
       "    <tr>\n",
       "      <th>동</th>\n",
       "      <th></th>\n",
       "      <th></th>\n",
       "      <th></th>\n",
       "    </tr>\n",
       "  </thead>\n",
       "  <tbody>\n",
       "    <tr>\n",
       "      <th>2018년_효자5동</th>\n",
       "      <td>6596</td>\n",
       "      <td>2007</td>\n",
       "      <td>3.286497</td>\n",
       "    </tr>\n",
       "    <tr>\n",
       "      <th>2018년_혁신동</th>\n",
       "      <td>2296</td>\n",
       "      <td>808</td>\n",
       "      <td>2.841584</td>\n",
       "    </tr>\n",
       "    <tr>\n",
       "      <th>2018년_송천1동</th>\n",
       "      <td>7128</td>\n",
       "      <td>3469</td>\n",
       "      <td>2.054771</td>\n",
       "    </tr>\n",
       "    <tr>\n",
       "      <th>2018년_효자4동</th>\n",
       "      <td>4128</td>\n",
       "      <td>2473</td>\n",
       "      <td>1.669228</td>\n",
       "    </tr>\n",
       "    <tr>\n",
       "      <th>2018년_중화산2동</th>\n",
       "      <td>2836</td>\n",
       "      <td>1869</td>\n",
       "      <td>1.517389</td>\n",
       "    </tr>\n",
       "    <tr>\n",
       "      <th>2018년_인후3동</th>\n",
       "      <td>4610</td>\n",
       "      <td>3420</td>\n",
       "      <td>1.347953</td>\n",
       "    </tr>\n",
       "    <tr>\n",
       "      <th>2018년_서신동</th>\n",
       "      <td>5712</td>\n",
       "      <td>4316</td>\n",
       "      <td>1.323448</td>\n",
       "    </tr>\n",
       "    <tr>\n",
       "      <th>2018년_동산동</th>\n",
       "      <td>3447</td>\n",
       "      <td>2764</td>\n",
       "      <td>1.247106</td>\n",
       "    </tr>\n",
       "    <tr>\n",
       "      <th>2018년_덕진동</th>\n",
       "      <td>3379</td>\n",
       "      <td>2776</td>\n",
       "      <td>1.217219</td>\n",
       "    </tr>\n",
       "    <tr>\n",
       "      <th>2018년_송천2동</th>\n",
       "      <td>3583</td>\n",
       "      <td>3231</td>\n",
       "      <td>1.108945</td>\n",
       "    </tr>\n",
       "    <tr>\n",
       "      <th>2018년_우아2동</th>\n",
       "      <td>2081</td>\n",
       "      <td>2037</td>\n",
       "      <td>1.021600</td>\n",
       "    </tr>\n",
       "    <tr>\n",
       "      <th>2018년_평화2동</th>\n",
       "      <td>5829</td>\n",
       "      <td>6009</td>\n",
       "      <td>0.970045</td>\n",
       "    </tr>\n",
       "    <tr>\n",
       "      <th>2018년_중화산1동</th>\n",
       "      <td>2228</td>\n",
       "      <td>2391</td>\n",
       "      <td>0.931828</td>\n",
       "    </tr>\n",
       "    <tr>\n",
       "      <th>2018년_금암1동</th>\n",
       "      <td>1268</td>\n",
       "      <td>1363</td>\n",
       "      <td>0.930301</td>\n",
       "    </tr>\n",
       "    <tr>\n",
       "      <th>2018년_호성동</th>\n",
       "      <td>2623</td>\n",
       "      <td>2843</td>\n",
       "      <td>0.922617</td>\n",
       "    </tr>\n",
       "    <tr>\n",
       "      <th>2018년_삼천3동</th>\n",
       "      <td>2781</td>\n",
       "      <td>3072</td>\n",
       "      <td>0.905273</td>\n",
       "    </tr>\n",
       "    <tr>\n",
       "      <th>2018년_효자3동</th>\n",
       "      <td>2107</td>\n",
       "      <td>2441</td>\n",
       "      <td>0.863171</td>\n",
       "    </tr>\n",
       "    <tr>\n",
       "      <th>2018년_삼천1동</th>\n",
       "      <td>1729</td>\n",
       "      <td>2056</td>\n",
       "      <td>0.840953</td>\n",
       "    </tr>\n",
       "    <tr>\n",
       "      <th>2018년_삼천2동</th>\n",
       "      <td>1861</td>\n",
       "      <td>2222</td>\n",
       "      <td>0.837534</td>\n",
       "    </tr>\n",
       "    <tr>\n",
       "      <th>2018년_인후1동</th>\n",
       "      <td>2395</td>\n",
       "      <td>2932</td>\n",
       "      <td>0.816849</td>\n",
       "    </tr>\n",
       "    <tr>\n",
       "      <th>2018년_효자2동</th>\n",
       "      <td>1415</td>\n",
       "      <td>2000</td>\n",
       "      <td>0.707500</td>\n",
       "    </tr>\n",
       "    <tr>\n",
       "      <th>2018년_우아1동</th>\n",
       "      <td>1056</td>\n",
       "      <td>1557</td>\n",
       "      <td>0.678227</td>\n",
       "    </tr>\n",
       "    <tr>\n",
       "      <th>2018년_조촌동</th>\n",
       "      <td>1273</td>\n",
       "      <td>1898</td>\n",
       "      <td>0.670706</td>\n",
       "    </tr>\n",
       "    <tr>\n",
       "      <th>2018년_효자1동</th>\n",
       "      <td>1486</td>\n",
       "      <td>2399</td>\n",
       "      <td>0.619425</td>\n",
       "    </tr>\n",
       "    <tr>\n",
       "      <th>2018년_금암2동</th>\n",
       "      <td>1351</td>\n",
       "      <td>2394</td>\n",
       "      <td>0.564327</td>\n",
       "    </tr>\n",
       "    <tr>\n",
       "      <th>2018년_인후2동</th>\n",
       "      <td>1450</td>\n",
       "      <td>2730</td>\n",
       "      <td>0.531136</td>\n",
       "    </tr>\n",
       "    <tr>\n",
       "      <th>2018년_서서학동</th>\n",
       "      <td>989</td>\n",
       "      <td>2165</td>\n",
       "      <td>0.456813</td>\n",
       "    </tr>\n",
       "    <tr>\n",
       "      <th>2018년_노송동</th>\n",
       "      <td>1512</td>\n",
       "      <td>3337</td>\n",
       "      <td>0.453102</td>\n",
       "    </tr>\n",
       "    <tr>\n",
       "      <th>2018년_평화1동</th>\n",
       "      <td>1384</td>\n",
       "      <td>3097</td>\n",
       "      <td>0.446884</td>\n",
       "    </tr>\n",
       "    <tr>\n",
       "      <th>2018년_팔복동</th>\n",
       "      <td>773</td>\n",
       "      <td>1820</td>\n",
       "      <td>0.424725</td>\n",
       "    </tr>\n",
       "    <tr>\n",
       "      <th>2018년_중앙동</th>\n",
       "      <td>857</td>\n",
       "      <td>2080</td>\n",
       "      <td>0.412019</td>\n",
       "    </tr>\n",
       "    <tr>\n",
       "      <th>2018년_진북동</th>\n",
       "      <td>1552</td>\n",
       "      <td>3913</td>\n",
       "      <td>0.396627</td>\n",
       "    </tr>\n",
       "    <tr>\n",
       "      <th>2018년_동서학동</th>\n",
       "      <td>690</td>\n",
       "      <td>1780</td>\n",
       "      <td>0.387640</td>\n",
       "    </tr>\n",
       "    <tr>\n",
       "      <th>2018년_완산동</th>\n",
       "      <td>501</td>\n",
       "      <td>1457</td>\n",
       "      <td>0.343857</td>\n",
       "    </tr>\n",
       "  </tbody>\n",
       "</table>\n",
       "</div>"
      ],
      "text/plain": [
       "             20∼39세 여성 인구  65세이상 인구    소멸위험지수\n",
       "동                                            \n",
       "2018년_효자5동           6596      2007  3.286497\n",
       "2018년_혁신동            2296       808  2.841584\n",
       "2018년_송천1동           7128      3469  2.054771\n",
       "2018년_효자4동           4128      2473  1.669228\n",
       "2018년_중화산2동          2836      1869  1.517389\n",
       "2018년_인후3동           4610      3420  1.347953\n",
       "2018년_서신동            5712      4316  1.323448\n",
       "2018년_동산동            3447      2764  1.247106\n",
       "2018년_덕진동            3379      2776  1.217219\n",
       "2018년_송천2동           3583      3231  1.108945\n",
       "2018년_우아2동           2081      2037  1.021600\n",
       "2018년_평화2동           5829      6009  0.970045\n",
       "2018년_중화산1동          2228      2391  0.931828\n",
       "2018년_금암1동           1268      1363  0.930301\n",
       "2018년_호성동            2623      2843  0.922617\n",
       "2018년_삼천3동           2781      3072  0.905273\n",
       "2018년_효자3동           2107      2441  0.863171\n",
       "2018년_삼천1동           1729      2056  0.840953\n",
       "2018년_삼천2동           1861      2222  0.837534\n",
       "2018년_인후1동           2395      2932  0.816849\n",
       "2018년_효자2동           1415      2000  0.707500\n",
       "2018년_우아1동           1056      1557  0.678227\n",
       "2018년_조촌동            1273      1898  0.670706\n",
       "2018년_효자1동           1486      2399  0.619425\n",
       "2018년_금암2동           1351      2394  0.564327\n",
       "2018년_인후2동           1450      2730  0.531136\n",
       "2018년_서서학동            989      2165  0.456813\n",
       "2018년_노송동            1512      3337  0.453102\n",
       "2018년_평화1동           1384      3097  0.446884\n",
       "2018년_팔복동             773      1820  0.424725\n",
       "2018년_중앙동             857      2080  0.412019\n",
       "2018년_진북동            1552      3913  0.396627\n",
       "2018년_동서학동            690      1780  0.387640\n",
       "2018년_완산동             501      1457  0.343857"
      ]
     },
     "execution_count": 21,
     "metadata": {},
     "output_type": "execute_result"
    }
   ],
   "source": [
    "dong_2018 = pd.concat([woman.loc[list_2018],total.loc[lists_2018]],axis = 1)\n",
    "dong_2018['소멸위험지수'] = dong_2018['20∼39세 여성 인구'] / dong_2018['65세이상 인구']\n",
    "dong_2018.sort_values(by='소멸위험지수',ascending = False)"
   ]
  },
  {
   "cell_type": "code",
   "execution_count": 22,
   "metadata": {},
   "outputs": [],
   "source": [
    "danger_2018 = dong_2018.sort_values(by='소멸위험지수')[:8].reset_index()[['동','소멸위험지수']]"
   ]
  },
  {
   "cell_type": "code",
   "execution_count": 23,
   "metadata": {
    "scrolled": true
   },
   "outputs": [
    {
     "data": {
      "text/html": [
       "<div>\n",
       "<style scoped>\n",
       "    .dataframe tbody tr th:only-of-type {\n",
       "        vertical-align: middle;\n",
       "    }\n",
       "\n",
       "    .dataframe tbody tr th {\n",
       "        vertical-align: top;\n",
       "    }\n",
       "\n",
       "    .dataframe thead th {\n",
       "        text-align: right;\n",
       "    }\n",
       "</style>\n",
       "<table border=\"1\" class=\"dataframe\">\n",
       "  <thead>\n",
       "    <tr style=\"text-align: right;\">\n",
       "      <th></th>\n",
       "      <th>20∼39세 여성 인구</th>\n",
       "      <th>65세이상 인구</th>\n",
       "      <th>소멸위험지수</th>\n",
       "    </tr>\n",
       "    <tr>\n",
       "      <th>동</th>\n",
       "      <th></th>\n",
       "      <th></th>\n",
       "      <th></th>\n",
       "    </tr>\n",
       "  </thead>\n",
       "  <tbody>\n",
       "    <tr>\n",
       "      <th>2019년_효자5동</th>\n",
       "      <td>6494</td>\n",
       "      <td>2090</td>\n",
       "      <td>3.107177</td>\n",
       "    </tr>\n",
       "    <tr>\n",
       "      <th>2019년_혁신동</th>\n",
       "      <td>2220</td>\n",
       "      <td>838</td>\n",
       "      <td>2.649165</td>\n",
       "    </tr>\n",
       "    <tr>\n",
       "      <th>2019년_송천1동</th>\n",
       "      <td>8507</td>\n",
       "      <td>3979</td>\n",
       "      <td>2.137974</td>\n",
       "    </tr>\n",
       "    <tr>\n",
       "      <th>2019년_효자4동</th>\n",
       "      <td>4665</td>\n",
       "      <td>2885</td>\n",
       "      <td>1.616984</td>\n",
       "    </tr>\n",
       "    <tr>\n",
       "      <th>2019년_동산동</th>\n",
       "      <td>4385</td>\n",
       "      <td>3084</td>\n",
       "      <td>1.421855</td>\n",
       "    </tr>\n",
       "    <tr>\n",
       "      <th>2019년_중화산2동</th>\n",
       "      <td>2746</td>\n",
       "      <td>1940</td>\n",
       "      <td>1.415464</td>\n",
       "    </tr>\n",
       "    <tr>\n",
       "      <th>2019년_인후3동</th>\n",
       "      <td>4293</td>\n",
       "      <td>3545</td>\n",
       "      <td>1.211001</td>\n",
       "    </tr>\n",
       "    <tr>\n",
       "      <th>2019년_서신동</th>\n",
       "      <td>5413</td>\n",
       "      <td>4485</td>\n",
       "      <td>1.206912</td>\n",
       "    </tr>\n",
       "    <tr>\n",
       "      <th>2019년_덕진동</th>\n",
       "      <td>3150</td>\n",
       "      <td>2810</td>\n",
       "      <td>1.120996</td>\n",
       "    </tr>\n",
       "    <tr>\n",
       "      <th>2019년_송천2동</th>\n",
       "      <td>3415</td>\n",
       "      <td>3401</td>\n",
       "      <td>1.004116</td>\n",
       "    </tr>\n",
       "    <tr>\n",
       "      <th>2019년_우아2동</th>\n",
       "      <td>1945</td>\n",
       "      <td>2117</td>\n",
       "      <td>0.918753</td>\n",
       "    </tr>\n",
       "    <tr>\n",
       "      <th>2019년_금암1동</th>\n",
       "      <td>1262</td>\n",
       "      <td>1392</td>\n",
       "      <td>0.906609</td>\n",
       "    </tr>\n",
       "    <tr>\n",
       "      <th>2019년_평화2동</th>\n",
       "      <td>5599</td>\n",
       "      <td>6430</td>\n",
       "      <td>0.870762</td>\n",
       "    </tr>\n",
       "    <tr>\n",
       "      <th>2019년_삼천3동</th>\n",
       "      <td>2667</td>\n",
       "      <td>3212</td>\n",
       "      <td>0.830324</td>\n",
       "    </tr>\n",
       "    <tr>\n",
       "      <th>2019년_중화산1동</th>\n",
       "      <td>2074</td>\n",
       "      <td>2527</td>\n",
       "      <td>0.820736</td>\n",
       "    </tr>\n",
       "    <tr>\n",
       "      <th>2019년_호성동</th>\n",
       "      <td>2400</td>\n",
       "      <td>3015</td>\n",
       "      <td>0.796020</td>\n",
       "    </tr>\n",
       "    <tr>\n",
       "      <th>2019년_효자3동</th>\n",
       "      <td>1928</td>\n",
       "      <td>2559</td>\n",
       "      <td>0.753419</td>\n",
       "    </tr>\n",
       "    <tr>\n",
       "      <th>2019년_인후1동</th>\n",
       "      <td>2201</td>\n",
       "      <td>3059</td>\n",
       "      <td>0.719516</td>\n",
       "    </tr>\n",
       "    <tr>\n",
       "      <th>2019년_삼천1동</th>\n",
       "      <td>1490</td>\n",
       "      <td>2071</td>\n",
       "      <td>0.719459</td>\n",
       "    </tr>\n",
       "    <tr>\n",
       "      <th>2019년_우아1동</th>\n",
       "      <td>1236</td>\n",
       "      <td>1721</td>\n",
       "      <td>0.718187</td>\n",
       "    </tr>\n",
       "    <tr>\n",
       "      <th>2019년_삼천2동</th>\n",
       "      <td>1694</td>\n",
       "      <td>2376</td>\n",
       "      <td>0.712963</td>\n",
       "    </tr>\n",
       "    <tr>\n",
       "      <th>2019년_조촌동</th>\n",
       "      <td>1415</td>\n",
       "      <td>2156</td>\n",
       "      <td>0.656308</td>\n",
       "    </tr>\n",
       "    <tr>\n",
       "      <th>2019년_효자2동</th>\n",
       "      <td>1318</td>\n",
       "      <td>2078</td>\n",
       "      <td>0.634264</td>\n",
       "    </tr>\n",
       "    <tr>\n",
       "      <th>2019년_효자1동</th>\n",
       "      <td>1351</td>\n",
       "      <td>2486</td>\n",
       "      <td>0.543443</td>\n",
       "    </tr>\n",
       "    <tr>\n",
       "      <th>2019년_금암2동</th>\n",
       "      <td>1274</td>\n",
       "      <td>2466</td>\n",
       "      <td>0.516626</td>\n",
       "    </tr>\n",
       "    <tr>\n",
       "      <th>2019년_인후2동</th>\n",
       "      <td>1378</td>\n",
       "      <td>2789</td>\n",
       "      <td>0.494084</td>\n",
       "    </tr>\n",
       "    <tr>\n",
       "      <th>2019년_노송동</th>\n",
       "      <td>1435</td>\n",
       "      <td>3420</td>\n",
       "      <td>0.419591</td>\n",
       "    </tr>\n",
       "    <tr>\n",
       "      <th>2019년_서서학동</th>\n",
       "      <td>907</td>\n",
       "      <td>2252</td>\n",
       "      <td>0.402753</td>\n",
       "    </tr>\n",
       "    <tr>\n",
       "      <th>2019년_평화1동</th>\n",
       "      <td>1278</td>\n",
       "      <td>3228</td>\n",
       "      <td>0.395911</td>\n",
       "    </tr>\n",
       "    <tr>\n",
       "      <th>2019년_중앙동</th>\n",
       "      <td>781</td>\n",
       "      <td>2103</td>\n",
       "      <td>0.371374</td>\n",
       "    </tr>\n",
       "    <tr>\n",
       "      <th>2019년_진북동</th>\n",
       "      <td>1463</td>\n",
       "      <td>3985</td>\n",
       "      <td>0.367127</td>\n",
       "    </tr>\n",
       "    <tr>\n",
       "      <th>2019년_팔복동</th>\n",
       "      <td>686</td>\n",
       "      <td>1887</td>\n",
       "      <td>0.363540</td>\n",
       "    </tr>\n",
       "    <tr>\n",
       "      <th>2019년_동서학동</th>\n",
       "      <td>654</td>\n",
       "      <td>1843</td>\n",
       "      <td>0.354856</td>\n",
       "    </tr>\n",
       "    <tr>\n",
       "      <th>2019년_완산동</th>\n",
       "      <td>456</td>\n",
       "      <td>1462</td>\n",
       "      <td>0.311902</td>\n",
       "    </tr>\n",
       "  </tbody>\n",
       "</table>\n",
       "</div>"
      ],
      "text/plain": [
       "             20∼39세 여성 인구  65세이상 인구    소멸위험지수\n",
       "동                                            \n",
       "2019년_효자5동           6494      2090  3.107177\n",
       "2019년_혁신동            2220       838  2.649165\n",
       "2019년_송천1동           8507      3979  2.137974\n",
       "2019년_효자4동           4665      2885  1.616984\n",
       "2019년_동산동            4385      3084  1.421855\n",
       "2019년_중화산2동          2746      1940  1.415464\n",
       "2019년_인후3동           4293      3545  1.211001\n",
       "2019년_서신동            5413      4485  1.206912\n",
       "2019년_덕진동            3150      2810  1.120996\n",
       "2019년_송천2동           3415      3401  1.004116\n",
       "2019년_우아2동           1945      2117  0.918753\n",
       "2019년_금암1동           1262      1392  0.906609\n",
       "2019년_평화2동           5599      6430  0.870762\n",
       "2019년_삼천3동           2667      3212  0.830324\n",
       "2019년_중화산1동          2074      2527  0.820736\n",
       "2019년_호성동            2400      3015  0.796020\n",
       "2019년_효자3동           1928      2559  0.753419\n",
       "2019년_인후1동           2201      3059  0.719516\n",
       "2019년_삼천1동           1490      2071  0.719459\n",
       "2019년_우아1동           1236      1721  0.718187\n",
       "2019년_삼천2동           1694      2376  0.712963\n",
       "2019년_조촌동            1415      2156  0.656308\n",
       "2019년_효자2동           1318      2078  0.634264\n",
       "2019년_효자1동           1351      2486  0.543443\n",
       "2019년_금암2동           1274      2466  0.516626\n",
       "2019년_인후2동           1378      2789  0.494084\n",
       "2019년_노송동            1435      3420  0.419591\n",
       "2019년_서서학동            907      2252  0.402753\n",
       "2019년_평화1동           1278      3228  0.395911\n",
       "2019년_중앙동             781      2103  0.371374\n",
       "2019년_진북동            1463      3985  0.367127\n",
       "2019년_팔복동             686      1887  0.363540\n",
       "2019년_동서학동            654      1843  0.354856\n",
       "2019년_완산동             456      1462  0.311902"
      ]
     },
     "execution_count": 23,
     "metadata": {},
     "output_type": "execute_result"
    }
   ],
   "source": [
    "dong_2019 = pd.concat([woman.loc[list_2019],total.loc[lists_2019]],axis = 1)\n",
    "dong_2019['소멸위험지수'] = dong_2019['20∼39세 여성 인구'] / dong_2019['65세이상 인구']\n",
    "dong_2019.sort_values(by='소멸위험지수',ascending = False)"
   ]
  },
  {
   "cell_type": "code",
   "execution_count": 24,
   "metadata": {},
   "outputs": [],
   "source": [
    "danger_2019 = dong_2019.sort_values(by='소멸위험지수')[:9].reset_index()[['동','소멸위험지수']]"
   ]
  },
  {
   "cell_type": "code",
   "execution_count": 25,
   "metadata": {},
   "outputs": [],
   "source": [
    "danger_2017.rename(columns={\"소멸위험지수\" : \"2017년_소멸위험지수\"},inplace = True)\n",
    "danger_2018.rename(columns={\"소멸위험지수\" : \"2018년_소멸위험지수\"},inplace = True)\n",
    "danger_2019.rename(columns={\"소멸위험지수\" : \"2019년_소멸위험지수\"},inplace = True)"
   ]
  },
  {
   "cell_type": "code",
   "execution_count": 26,
   "metadata": {},
   "outputs": [],
   "source": [
    "danger_2017['동'] = [danger_2017['동'][i].split('_')[1] for i in range(len(danger_2017))]\n",
    "danger_2018['동'] = [danger_2018['동'][i].split('_')[1] for i in range(len(danger_2018))]\n",
    "danger_2019['동'] = [danger_2019['동'][i].split('_')[1] for i in range(len(danger_2019))]"
   ]
  },
  {
   "cell_type": "code",
   "execution_count": 27,
   "metadata": {},
   "outputs": [],
   "source": [
    "danger = pd.merge(danger_2017,danger_2018,how='right').fillna(0)\n",
    "danger = pd.merge(danger,danger_2019,how = 'right').fillna(0)"
   ]
  },
  {
   "cell_type": "code",
   "execution_count": 28,
   "metadata": {
    "scrolled": true
   },
   "outputs": [
    {
     "data": {
      "image/png": "[encoded data removed]",
      "text/plain": [
       "<Figure size 432x288 with 1 Axes>"
      ]
     },
     "metadata": {
      "needs_background": "light"
     },
     "output_type": "display_data"
    },
    {
     "data": {
      "image/png": "[encoded data removed]",
      "text/plain": [
       "<Figure size 432x288 with 1 Axes>"
      ]
     },
     "metadata": {
      "needs_background": "light"
     },
     "output_type": "display_data"
    },
    {
     "data": {
      "image/png": "[encoded data removed]",
      "text/plain": [
       "<Figure size 432x288 with 1 Axes>"
      ]
     },
     "metadata": {
      "needs_background": "light"
     },
     "output_type": "display_data"
    },
    {
     "data": {
      "image/png": "[encoded data removed]",
      "text/plain": [
       "<Figure size 432x288 with 1 Axes>"
      ]
     },
     "metadata": {
      "needs_background": "light"
     },
     "output_type": "display_data"
    },
    {
     "data": {
      "image/png": "[encoded data removed]",
      "text/plain": [
       "<Figure size 432x288 with 1 Axes>"
      ]
     },
     "metadata": {
      "needs_background": "light"
     },
     "output_type": "display_data"
    },
    {
     "data": {
      "image/png": "[encoded data removed]",
      "text/plain": [
       "<Figure size 432x288 with 1 Axes>"
      ]
     },
     "metadata": {
      "needs_background": "light"
     },
     "output_type": "display_data"
    },
    {
     "data": {
      "image/png": "[encoded data removed]",
      "text/plain": [
       "<Figure size 432x288 with 1 Axes>"
      ]
     },
     "metadata": {
      "needs_background": "light"
     },
     "output_type": "display_data"
    },
    {
     "data": {
      "image/png": "[encoded data removed]",
      "text/plain": [
       "<Figure size 432x288 with 1 Axes>"
      ]
     },
     "metadata": {
      "needs_background": "light"
     },
     "output_type": "display_data"
    },
    {
     "data": {
      "image/png": "[encoded data removed]",
      "text/plain": [
       "<Figure size 432x288 with 1 Axes>"
      ]
     },
     "metadata": {
      "needs_background": "light"
     },
     "output_type": "display_data"
    }
   ],
   "source": [
    "for i in range(len(danger)) :\n",
    "    danger.set_index('동').iloc[i,:].plot()\n",
    "    plt.title(\"{}의 소멸위험지수\".format(danger.iloc[i,:]['동']))\n",
    "    plt.show()"
   ]
  },
  {
   "cell_type": "markdown",
   "metadata": {},
   "source": [
    "행정동 35개, 법정동 83개"
   ]
  },
  {
   "cell_type": "code",
   "execution_count": 29,
   "metadata": {},
   "outputs": [],
   "source": [
    "concert = pd.read_csv('전라북도 전주시_공연장 현황_20210215.csv',encoding = 'cp949')"
   ]
  },
  {
   "cell_type": "code",
   "execution_count": 30,
   "metadata": {},
   "outputs": [],
   "source": [
    "dong_list= [ ]\n",
    "for dong in concert['공연장소재지(지번)'] :\n",
    "    for d in dong.split(' ') :\n",
    "        if d.endswith('가') and len(d) > 2 :\n",
    "            dong_list.append(d)\n",
    "        elif d.endswith('동') and len(d) >= 2 :\n",
    "            dong_list.append(d)"
   ]
  },
  {
   "cell_type": "code",
   "execution_count": 31,
   "metadata": {},
   "outputs": [],
   "source": [
    "del dong_list[18]"
   ]
  },
  {
   "cell_type": "code",
   "execution_count": 32,
   "metadata": {},
   "outputs": [],
   "source": [
    "revise_list = []\n",
    "for dong in dong_list :\n",
    "    if dong.endswith('가') :\n",
    "        for i,a in enumerate(dong) :\n",
    "            if a=='동' :\n",
    "                revise_list.append(dong[:i+1])\n",
    "    else :\n",
    "        revise_list.append(dong)"
   ]
  },
  {
   "cell_type": "code",
   "execution_count": 40,
   "metadata": {},
   "outputs": [],
   "source": [
    "concert['동'] = revise_list"
   ]
  },
  {
   "cell_type": "code",
   "execution_count": 151,
   "metadata": {
    "scrolled": true
   },
   "outputs": [
    {
     "data": {
      "image/png": "[encoded data removed]",
      "text/plain": [
       "<Figure size 576x432 with 1 Axes>"
      ]
     },
     "metadata": {
      "needs_background": "light"
     },
     "output_type": "display_data"
    }
   ],
   "source": [
    "plt.figure(figsize = (8,6))\n",
    "concert['동'].value_counts().plot.bar()\n",
    "plt.title(\"전주시 공연장\",fontsize = 15)\n",
    "plt.show()"
   ]
  },
  {
   "cell_type": "markdown",
   "metadata": {},
   "source": [
    "### 음식점"
   ]
  },
  {
   "cell_type": "code",
   "execution_count": 41,
   "metadata": {},
   "outputs": [],
   "source": [
    "food = pd.read_csv('전라북도 전주시_음식점 정보_20201229.csv')"
   ]
  },
  {
   "cell_type": "code",
   "execution_count": 42,
   "metadata": {},
   "outputs": [],
   "source": [
    "food = food.iloc[:,:20]"
   ]
  },
  {
   "cell_type": "code",
   "execution_count": 43,
   "metadata": {},
   "outputs": [],
   "source": [
    "food['행정동'] = [dong.split(' ')[3] for dong in food['지번주소'] ]"
   ]
  },
  {
   "cell_type": "code",
   "execution_count": 44,
   "metadata": {},
   "outputs": [
    {
     "data": {
      "text/plain": [
       "53"
      ]
     },
     "execution_count": 44,
     "metadata": {},
     "output_type": "execute_result"
    }
   ],
   "source": [
    "food['행정동'].nunique()"
   ]
  },
  {
   "cell_type": "markdown",
   "metadata": {},
   "source": [
    "인프라 변수 : 카페 / 편의점 / 버스정류장 / 문화시설 / 공원 등\n",
    "\n",
    "지리적 변수 : 중심지와의 거리(전주역 혹은 한옥마을) / tmap 기준 문화관광 카테고리 한정 목적지 수\n",
    "\n",
    "인구통계학적 변수 : 연령대별 인구수(청소년 , 청년층 등)"
   ]
  },
  {
   "cell_type": "code",
   "execution_count": 2,
   "metadata": {},
   "outputs": [],
   "source": [
    "pop = pd.read_csv('202012_202012_주민등록인구및세대현황_연간.csv',encoding = 'cp949')"
   ]
  },
  {
   "cell_type": "code",
   "execution_count": 3,
   "metadata": {},
   "outputs": [],
   "source": [
    "index_list = []\n",
    "for i in range(len(pop)) :\n",
    "    if pop['행정구역'][i].split('(')[0].endswith('동') :\n",
    "        index_list.append(i)\n",
    "pop_dong = pop.iloc[index_list,:].reset_index(drop = True)"
   ]
  },
  {
   "cell_type": "code",
   "execution_count": 4,
   "metadata": {},
   "outputs": [],
   "source": [
    "pop_dong.insert(1,'행정동',[pop_dong['행정구역'][i].split('(')[0].split(' ')[3] for i in range(len(pop_dong))])"
   ]
  },
  {
   "cell_type": "code",
   "execution_count": 5,
   "metadata": {},
   "outputs": [],
   "source": [
    "pop_dong = pop_dong.iloc[:,1:]"
   ]
  },
  {
   "cell_type": "code",
   "execution_count": 6,
   "metadata": {},
   "outputs": [],
   "source": [
    "pops = pd.read_csv('202012_202012_연령별인구현황_연간.csv',encoding = 'cp949',thousands=',')"
   ]
  },
  {
   "cell_type": "code",
   "execution_count": 7,
   "metadata": {},
   "outputs": [],
   "source": [
    "index_list = []\n",
    "for i in range(len(pops)) :\n",
    "    if pops['행정구역'][i].split('(')[0].endswith('동') :\n",
    "        index_list.append(i)"
   ]
  },
  {
   "cell_type": "code",
   "execution_count": 8,
   "metadata": {},
   "outputs": [],
   "source": [
    "pops_dong = pops.iloc[index_list,:]\n",
    "pops_dong.reset_index(drop = True, inplace = True)"
   ]
  },
  {
   "cell_type": "code",
   "execution_count": 9,
   "metadata": {},
   "outputs": [],
   "source": [
    "pops_dong.insert(1,'행정동',[pops_dong['행정구역'][i].split('(')[0].split(' ')[3] for i in range(len(pops_dong))])"
   ]
  },
  {
   "cell_type": "code",
   "execution_count": 10,
   "metadata": {},
   "outputs": [],
   "source": [
    "pops_dong =pops_dong.iloc[:,1:]"
   ]
  },
  {
   "cell_type": "code",
   "execution_count": 11,
   "metadata": {
    "scrolled": false
   },
   "outputs": [],
   "source": [
    "pops_dong.set_index('행정동',inplace = True)"
   ]
  },
  {
   "cell_type": "code",
   "execution_count": 12,
   "metadata": {
    "scrolled": false
   },
   "outputs": [],
   "source": [
    "men_list = []\n",
    "women_list = []\n",
    "for col in pops_dong.columns :\n",
    "    if '남' in col :\n",
    "        men_list.append(col)\n",
    "    else :\n",
    "        women_list.append(col)"
   ]
  },
  {
   "cell_type": "code",
   "execution_count": 13,
   "metadata": {},
   "outputs": [],
   "source": [
    "jeonju_df = pd.DataFrame(pops_dong[[col for col in pops_dong.columns if '총인구수' in col]].sum(axis = 1)).rename(columns = {0 : \"총인구수\"})"
   ]
  },
  {
   "cell_type": "code",
   "execution_count": 14,
   "metadata": {},
   "outputs": [],
   "source": [
    "jeonju_df.sort_values(by= '행정동',inplace = True)"
   ]
  },
  {
   "cell_type": "code",
   "execution_count": 15,
   "metadata": {},
   "outputs": [],
   "source": [
    "danger = pd.DataFrame(pops_dong[women_list].iloc[:,women_list.index('2020년_여_거주자_20~24세') : women_list.index('2020년_여_거주자_40~44세')].sum(axis = 1) / (pops_dong[men_list].iloc[:,men_list.index('2020년_남_거주자_65~69세'):].sum(axis = 1) + pops_dong[women_list].iloc[:,women_list.index('2020년_여_거주자_65~69세'):].sum(axis = 1))).sort_values(by ='행정동').rename(columns = {0 : \"소멸위험동네\"})"
   ]
  },
  {
   "cell_type": "code",
   "execution_count": 16,
   "metadata": {},
   "outputs": [],
   "source": [
    "jeonju_df = pd.concat([jeonju_df,danger],axis = 1)"
   ]
  },
  {
   "cell_type": "markdown",
   "metadata": {},
   "source": [
    "- 어린이 : 1~14세\n",
    "- 청소년 : 15세 ~ 19세\n",
    "- 청년 : 20세 ~ 29세\n",
    "- 장년 : 30 ~ 44세\n",
    "- 중년 : 45세 ~ 64세\n",
    "- 노인 : 그 이후"
   ]
  },
  {
   "cell_type": "code",
   "execution_count": 17,
   "metadata": {},
   "outputs": [],
   "source": [
    "iloc_list = []\n",
    "for i,col in enumerate([col for col in pops_dong.columns if col.endswith('세') or col.endswith('이상')]) :\n",
    "    if col.endswith('14세') :\n",
    "        iloc_list.append(i)\n",
    "    elif col.endswith(\"19세\") :\n",
    "        iloc_list.append(i)\n",
    "    elif col.endswith(\"29세\") :\n",
    "        iloc_list.append(i)\n",
    "    elif col.endswith(\"44세\") :\n",
    "        iloc_list.append(i)\n",
    "    elif col.endswith(\"64세\") :\n",
    "        iloc_list.append(i)\n",
    "    elif col.endswith(\"이상\") :\n",
    "        iloc_list.append(i)"
   ]
  },
  {
   "cell_type": "code",
   "execution_count": 18,
   "metadata": {},
   "outputs": [],
   "source": [
    "iloc_list.insert(0,-1)"
   ]
  },
  {
   "cell_type": "code",
   "execution_count": 19,
   "metadata": {},
   "outputs": [],
   "source": [
    "age_list = ['어린이','청소년','청년','장년','중년','노인']"
   ]
  },
  {
   "cell_type": "code",
   "execution_count": 20,
   "metadata": {},
   "outputs": [],
   "source": [
    "age_dong = pops_dong[[col for col in pops_dong.columns if col.endswith('세') or col.endswith('이상')]]"
   ]
  },
  {
   "cell_type": "code",
   "execution_count": 21,
   "metadata": {},
   "outputs": [],
   "source": [
    "value_list = []\n",
    "for i in range(0,6) :\n",
    "    value_list.append(age_dong.iloc[:,iloc_list[i]+1 : iloc_list[i+1]+1].sum(axis = 1) + age_dong.iloc[:,iloc_list[i+6]+1 : iloc_list[i+7]+1].sum(axis = 1))\n",
    "\n",
    "for i in range(0,6) :\n",
    "    jeonju_df[\"{}_인구수\".format(age_list[i])] = value_list[i]"
   ]
  },
  {
   "cell_type": "code",
   "execution_count": 25,
   "metadata": {},
   "outputs": [],
   "source": [
    "jeonju_df.to_csv(\"전주.csv\",index = True)"
   ]
  },
  {
   "cell_type": "code",
   "execution_count": 3,
   "metadata": {},
   "outputs": [],
   "source": [
    "jeonju_df = pd.read_csv('전주.csv')"
   ]
  },
  {
   "cell_type": "code",
   "execution_count": 5,
   "metadata": {},
   "outputs": [],
   "source": [
    "tmap_dir = os.getcwd() + \"\\\\tmap\\\\\""
   ]
  },
  {
   "cell_type": "code",
   "execution_count": 6,
   "metadata": {},
   "outputs": [],
   "source": [
    "\n",
    "tmap = pd.DataFrame()\n",
    "for f in os.listdir(tmap_dir) :\n",
    "    tmap = pd.concat([tmap,pd.read_csv(tmap_dir + f)],axis = 0,ignore_index=True)"
   ]
  },
  {
   "cell_type": "code",
   "execution_count": 7,
   "metadata": {},
   "outputs": [],
   "source": [
    "tmap =tmap.rename(columns={\"지역(시도)\" : \"시도\",\"지역(시군구)\" : \"시군구\"})"
   ]
  },
  {
   "cell_type": "code",
   "execution_count": 9,
   "metadata": {},
   "outputs": [],
   "source": [
    "jeonju_list = ['전주시 덕진구', '전주시 완산구']"
   ]
  },
  {
   "cell_type": "code",
   "execution_count": 10,
   "metadata": {},
   "outputs": [],
   "source": [
    "tmap_jj = tmap.query('시군구 in @jeonju_list')"
   ]
  },
  {
   "cell_type": "code",
   "execution_count": 11,
   "metadata": {},
   "outputs": [],
   "source": [
    "tmap_jj = tmap_jj.sort_values(by='일자').reset_index(drop = True)"
   ]
  },
  {
   "cell_type": "code",
   "execution_count": 129,
   "metadata": {
    "scrolled": true
   },
   "outputs": [
    {
     "data": {
      "text/plain": [
       "['금암1동',\n",
       " '금암2동',\n",
       " '노송동',\n",
       " '덕진동',\n",
       " '동서학동',\n",
       " '삼천1동',\n",
       " '삼천2동',\n",
       " '삼천3동',\n",
       " '서서학동',\n",
       " '서신동',\n",
       " '송천1동',\n",
       " '송천2동',\n",
       " '여의동',\n",
       " '완산동',\n",
       " '우아1동',\n",
       " '우아2동',\n",
       " '인후1동',\n",
       " '인후2동',\n",
       " '인후3동',\n",
       " '조촌동',\n",
       " '중앙동',\n",
       " '중화산1동',\n",
       " '중화산2동',\n",
       " '진북동',\n",
       " '팔복동',\n",
       " '평화1동',\n",
       " '평화2동',\n",
       " '풍남동',\n",
       " '혁신동',\n",
       " '호성동',\n",
       " '효자1동',\n",
       " '효자2동',\n",
       " '효자3동',\n",
       " '효자4동',\n",
       " '효자5동']"
      ]
     },
     "execution_count": 129,
     "metadata": {},
     "output_type": "execute_result"
    }
   ],
   "source": [
    "sorted(jeonju_df['행정동'].to_list())"
   ]
  },
  {
   "cell_type": "code",
   "execution_count": 130,
   "metadata": {},
   "outputs": [
    {
     "data": {
      "text/plain": [
       "['전주시 덕진구 E편한세상우아아파트',\n",
       " '전주시 덕진구 LH퍼스트리움아파트',\n",
       " '전주시 덕진구 LX한국국토정보공사본사',\n",
       " '전주시 덕진구 고궁전주본점',\n",
       " '전주시 덕진구 고용노동부종합청사',\n",
       " '전주시 덕진구 광주지방고용노동청전주지청',\n",
       " '전주시 덕진구 국민연금공단본부',\n",
       " '전주시 덕진구 그날의온도',\n",
       " '전주시 덕진구 금성장례식장',\n",
       " '전주시 덕진구 금암소바',\n",
       " '전주시 덕진구 금암중앙하이츠아파트',\n",
       " '전주시 덕진구 노블레스컨벤션웨딩홀',\n",
       " '전주시 덕진구 농촌진흥청',\n",
       " '전주시 덕진구 농촌진흥청농촌인적자원개발센터',\n",
       " '전주시 덕진구 대송장례식장',\n",
       " '전주시 덕진구 대자인병원',\n",
       " '전주시 덕진구 대한산업보건협회전북산업보건센터',\n",
       " '전주시 덕진구 더메이호텔',\n",
       " '전주시 덕진구 덕진구청',\n",
       " '전주시 덕진구 동전주IC',\n",
       " '전주시 덕진구 동전주장례문화원',\n",
       " '전주시 덕진구 롯데마트송천점',\n",
       " '전주시 덕진구 만성골드클래스아파트',\n",
       " '전주시 덕진구 만성법조타운골드클래스아파트',\n",
       " '전주시 덕진구 만성법조타운제일풍경채아파트',\n",
       " '전주시 덕진구 만성법조타운중흥S클래스더퍼스트아파트',\n",
       " '전주시 덕진구 만성에코르1단지아파트',\n",
       " '전주시 덕진구 메가박스송천',\n",
       " '전주시 덕진구 메가월드전주점',\n",
       " '전주시 덕진구 모래내시장',\n",
       " '전주시 덕진구 반월동남해오네뜨하이뷰아파트',\n",
       " '전주시 덕진구 반월세움펠리피아2차아파트',\n",
       " '전주시 덕진구 벽계가든',\n",
       " '전주시 덕진구 삼성디지털프라자전주본점',\n",
       " '전주시 덕진구 삼성장례문화원',\n",
       " '전주시 덕진구 새마을금고중앙회전북지역본부',\n",
       " '전주시 덕진구 새소망교회',\n",
       " '전주시 덕진구 세병호',\n",
       " '전주시 덕진구 솔내고등학교',\n",
       " '전주시 덕진구 솔내동아아파트',\n",
       " '전주시 덕진구 송천KCC스위첸아파트',\n",
       " '전주시 덕진구 송천대명아파트',\n",
       " '전주시 덕진구 송천뜨란채아파트',\n",
       " '전주시 덕진구 송천센트럴파크2단지아파트',\n",
       " '전주시 덕진구 송천자이아파트',\n",
       " '전주시 덕진구 송천주공2단지아파트',\n",
       " '전주시 덕진구 송천주공뜨란채아파트',\n",
       " '전주시 덕진구 송천진흥더블파크아파트',\n",
       " '전주시 덕진구 송천한양아파트',\n",
       " '전주시 덕진구 송천현대3차아파트',\n",
       " '전주시 덕진구 시티프라디움아파트',\n",
       " '전주시 덕진구 아름다운컨벤션웨딩홀',\n",
       " '전주시 덕진구 아리랑하우스',\n",
       " '전주시 덕진구 아중대우1차아파트',\n",
       " '전주시 덕진구 아중마을부영3차아파트',\n",
       " '전주시 덕진구 아중마을부영6차아파트',\n",
       " '전주시 덕진구 아중역',\n",
       " '전주시 덕진구 아중중학교',\n",
       " '전주시 덕진구 아중현대아파트',\n",
       " '전주시 덕진구 안골네거리',\n",
       " '전주시 덕진구 양현고등학교',\n",
       " '전주시 덕진구 에코시티KCC스위첸아파트',\n",
       " '전주시 덕진구 에코시티더샵3차아파트',\n",
       " '전주시 덕진구 에코시티휴먼빌아파트',\n",
       " '전주시 덕진구 여만국수전문점',\n",
       " '전주시 덕진구 여의동주민센터',\n",
       " '전주시 덕진구 온고을장례식장',\n",
       " '전주시 덕진구 우미린1차아파트',\n",
       " '전주시 덕진구 웨딩의전당',\n",
       " '전주시 덕진구 인후꿈마을부영2차아파트',\n",
       " '전주시 덕진구 인후두산위브금호어울림아파트',\n",
       " '전주시 덕진구 인후한신휴플러스아파트',\n",
       " '전주시 덕진구 전라북도교육문화회관',\n",
       " '전주시 덕진구 전북경제통상진흥원본관',\n",
       " '전주시 덕진구 전북대학교병원',\n",
       " '전주시 덕진구 전북대학교병원장례식장',\n",
       " '전주시 덕진구 전북대학교전주캠퍼스',\n",
       " '전주시 덕진구 전북어린이창의체험관',\n",
       " '전주시 덕진구 전북은행본점',\n",
       " '전주시 덕진구 전북테크노파크',\n",
       " '전주시 덕진구 전북혁신도시더그랜드센텀아파트',\n",
       " '전주시 덕진구 전주21세기병원',\n",
       " '전주시 덕진구 전주IC',\n",
       " '전주시 덕진구 전주고려병원',\n",
       " '전주시 덕진구 전주고속버스터미널',\n",
       " '전주시 덕진구 전주고용복지플러스센터',\n",
       " '전주시 덕진구 전주덕진공원',\n",
       " '전주시 덕진구 전주동물원',\n",
       " '전주시 덕진구 전주세계소리축제',\n",
       " '전주시 덕진구 전주솔빛중학교',\n",
       " '전주시 덕진구 전주시외버스공용터미널',\n",
       " '전주시 덕진구 전주실내체육관',\n",
       " '전주시 덕진구 전주에코시티더샵아파트',\n",
       " '전주시 덕진구 전주에코시티데시앙2차12BL아파트',\n",
       " '전주시 덕진구 전주에코시티데시앙2차7BL아파트',\n",
       " '전주시 덕진구 전주에코시티데시앙4BL아파트',\n",
       " '전주시 덕진구 전주에코시티데시앙네스트아파트',\n",
       " '전주시 덕진구 전주역',\n",
       " '전주시 덕진구 전주오송중학교',\n",
       " '전주시 덕진구 전주온고을중학교',\n",
       " '전주시 덕진구 전주온빛중학교',\n",
       " '전주시 덕진구 전주월드컵경기장',\n",
       " '전주시 덕진구 전주인후동위브어울림아파트',\n",
       " '전주시 덕진구 전주종합경기장',\n",
       " '전주시 덕진구 전주중학교',\n",
       " '전주시 덕진구 전주지방법원',\n",
       " '전주시 덕진구 전주페이퍼전주공장',\n",
       " '전주시 덕진구 전주하가사랑으로부영아파트',\n",
       " '전주시 덕진구 죽도민물매운탕',\n",
       " '전주시 덕진구 진북동우성아파트',\n",
       " '전주시 덕진구 진북우성아파트',\n",
       " '전주시 덕진구 코다리밥상만성점',\n",
       " '전주시 덕진구 터존부페',\n",
       " '전주시 덕진구 팔복예술공장',\n",
       " '전주시 덕진구 하가영무예다음아파트',\n",
       " '전주시 덕진구 하나로마트전주점',\n",
       " '전주시 덕진구 하나로클럽전주점',\n",
       " '전주시 덕진구 한국건강관리협회전북지부',\n",
       " '전주시 덕진구 한국관본점',\n",
       " '전주시 덕진구 한국농수산대학',\n",
       " '전주시 덕진구 한국도로공사수목원',\n",
       " '전주시 덕진구 한국산업인력공단전북지사',\n",
       " '전주시 덕진구 한별여성의원',\n",
       " '전주시 덕진구 혁신호반베르디움1차아파트',\n",
       " '전주시 덕진구 현대장례식장',\n",
       " '전주시 덕진구 호반베르디움더클래스2아파트',\n",
       " '전주시 덕진구 호반베르디움더클래스아파트',\n",
       " '전주시 덕진구 호성LG동아아파트',\n",
       " '전주시 덕진구 호성주공2단지아파트',\n",
       " '전주시 덕진구 호성진흥더블파크1단지아파트',\n",
       " '전주시 덕진구 호성진흥더블파크2단지아파트',\n",
       " '전주시 덕진구 호성진흥더블파크3단지아파트',\n",
       " '전주시 덕진구 홈플러스전주점',\n",
       " '전주시 완산구 CGV서전주',\n",
       " '전주시 완산구 CGV전주고사',\n",
       " '전주시 완산구 CGV전주효자',\n",
       " '전주시 완산구 LH세븐팰리스아파트',\n",
       " '전주시 완산구 NC웨이브전주점A관',\n",
       " '전주시 완산구 NH농협은행전북본부',\n",
       " '전주시 완산구 N타워컨벤션웨딩홀',\n",
       " '전주시 완산구 PNB풍년제과본점',\n",
       " '전주시 완산구 국립무형유산원',\n",
       " '전주시 완산구 국립전주박물관',\n",
       " '전주시 완산구 국민연금공단전주지사',\n",
       " '전주시 완산구 그랜드힐스턴',\n",
       " '전주시 완산구 그랜드힐스턴호텔',\n",
       " '전주시 완산구 기전중학교',\n",
       " '전주시 완산구 남부시장',\n",
       " '전주시 완산구 남부시장한옥마을야시장',\n",
       " '전주시 완산구 뉴타운장례식장',\n",
       " '전주시 완산구 대우빌딩',\n",
       " '전주시 완산구 더케이웨딩홀',\n",
       " '전주시 완산구 도싯골도청점',\n",
       " '전주시 완산구 동도미소드림아파트',\n",
       " '전주시 완산구 라루체',\n",
       " '전주시 완산구 라루체웨딩홀',\n",
       " '전주시 완산구 라마다전주호텔',\n",
       " '전주시 완산구 라한호텔전주',\n",
       " '전주시 완산구 롯데마트전주점',\n",
       " '전주시 완산구 롯데백화점전주점',\n",
       " '전주시 완산구 메가박스전주',\n",
       " '전주시 완산구 모악장례문화원',\n",
       " '전주시 완산구 반야돌솥밥본점',\n",
       " '전주시 완산구 베스트웨스턴플러스전주호텔',\n",
       " '전주시 완산구 베테랑분식',\n",
       " '전주시 완산구 삼백집',\n",
       " '전주시 완산구 삼천남양아파트',\n",
       " '전주시 완산구 삼천호반리젠시빌아파트',\n",
       " '전주시 완산구 상산고등학교',\n",
       " '전주시 완산구 상산타운아파트',\n",
       " '전주시 완산구 서곡두산아파트',\n",
       " '전주시 완산구 서곡주공아파트',\n",
       " '전주시 완산구 서부신시가지아이파크아파트',\n",
       " '전주시 완산구 서신대림E편한세상아파트',\n",
       " '전주시 완산구 서신동주민센터',\n",
       " '전주시 완산구 성원아파트',\n",
       " '전주시 완산구 세이브존전주코아점',\n",
       " '전주시 완산구 소담촌전주효자점',\n",
       " '전주시 완산구 송정써미트아파트',\n",
       " '전주시 완산구 수병원',\n",
       " '전주시 완산구 스파라쿠아',\n",
       " '전주시 완산구 승일삼천하이츠아파트',\n",
       " '전주시 완산구 신일강변아파트',\n",
       " '전주시 완산구 신일아파트',\n",
       " '전주시 완산구 안행현대아파트',\n",
       " '전주시 완산구 알펜시아웨딩컨벤션',\n",
       " '전주시 완산구 예수병원',\n",
       " '전주시 완산구 예수병원장례식장',\n",
       " '전주시 완산구 예우랑중화산점',\n",
       " '전주시 완산구 예찬이네반찬한식뷔페',\n",
       " '전주시 완산구 오펠리스웨딩',\n",
       " '전주시 완산구 옥자네생고기',\n",
       " '전주시 완산구 완산공원',\n",
       " '전주시 완산구 완산구청',\n",
       " '전주시 완산구 완산생활체육공원',\n",
       " '전주시 완산구 완산여자고등학교',\n",
       " '전주시 완산구 유로병원',\n",
       " '전주시 완산구 육일식당본점',\n",
       " '전주시 완산구 이마트전주점',\n",
       " '전주시 완산구 장수농장',\n",
       " '전주시 완산구 장수버섯마을',\n",
       " '전주시 완산구 전라북도교육청',\n",
       " '전주시 완산구 전라북도청',\n",
       " '전주시 완산구 전주관광호텔',\n",
       " '전주시 완산구 전주교육대학교',\n",
       " '전주시 완산구 전주난장',\n",
       " '전주시 완산구 전주대학교',\n",
       " '전주시 완산구 전주대학교사범대학부설고등학교',\n",
       " '전주시 완산구 전주대학교스타타워',\n",
       " '전주시 완산구 전주라마다호텔',\n",
       " '전주시 완산구 전주메밀방앗간',\n",
       " '전주시 완산구 전주문학초등학교',\n",
       " '전주시 완산구 전주병원',\n",
       " '전주시 완산구 전주병원장례식장',\n",
       " '전주시 완산구 전주비전대학교',\n",
       " '전주시 완산구 전주상공회의소',\n",
       " '전주시 완산구 전주서곡청솔아파트',\n",
       " '전주시 완산구 전주서신중학교',\n",
       " '전주시 완산구 전주시보건소',\n",
       " '전주시 완산구 전주시청',\n",
       " '전주시 완산구 전주왱이콩나물국밥집',\n",
       " '전주시 완산구 전주우림중학교',\n",
       " '전주시 완산구 전주우체국',\n",
       " '전주시 완산구 전주제일고등학교',\n",
       " '전주시 완산구 전주중산초등학교',\n",
       " '전주시 완산구 전주평화골드클래스아파트',\n",
       " '전주시 완산구 전주한옥마을',\n",
       " '전주시 완산구 전주화산체육관',\n",
       " '전주시 완산구 전주효천대방노블랜드에코파크아파트',\n",
       " '전주시 완산구 전주효천리버클래스아파트',\n",
       " '전주시 완산구 전주효천우미린더퍼스트아파트',\n",
       " '전주시 완산구 전주효천우미린더프레스티지아파트',\n",
       " '전주시 완산구 전주효천지구우미린2차아파트',\n",
       " '전주시 완산구 조점례남문피순대',\n",
       " '전주시 완산구 중화산현대A단지아파트',\n",
       " '전주시 완산구 중흥아파트',\n",
       " '전주시 완산구 초장집',\n",
       " '전주시 완산구 코오롱아파트',\n",
       " '전주시 완산구 태평SKVIEW아파트',\n",
       " '전주시 완산구 파티원',\n",
       " '전주시 완산구 평화그린타운1차아파트',\n",
       " '전주시 완산구 평화그린타운2차아파트',\n",
       " '전주시 완산구 평화동광신프로그레스아파트',\n",
       " '전주시 완산구 평화동동아현대아파트',\n",
       " '전주시 완산구 평화동신아파트',\n",
       " '전주시 완산구 평화일성아파트',\n",
       " '전주시 완산구 평화중학교',\n",
       " '전주시 완산구 하숙영가마솥비빔밥',\n",
       " '전주시 완산구 한강아파트',\n",
       " '전주시 완산구 한국전통문화전당',\n",
       " '전주시 완산구 한국집',\n",
       " '전주시 완산구 한사랑효자요양병원',\n",
       " '전주시 완산구 한얼집',\n",
       " '전주시 완산구 한옥마을서해그랑블아파트',\n",
       " '전주시 완산구 한울밥상',\n",
       " '전주시 완산구 해변의꽃게전주점',\n",
       " '전주시 완산구 현대에코르아파트',\n",
       " '전주시 완산구 현대옥본점',\n",
       " '전주시 완산구 호림이네',\n",
       " '전주시 완산구 홈플러스전주완산점',\n",
       " '전주시 완산구 홈플러스전주효자점',\n",
       " '전주시 완산구 홍산초등학교',\n",
       " '전주시 완산구 화산코오롱하늘채아파트',\n",
       " '전주시 완산구 효사랑장례문화원',\n",
       " '전주시 완산구 효자4동주민센터',\n",
       " '전주시 완산구 효자동금호타운아파트',\n",
       " '전주시 완산구 효자동대림아파트',\n",
       " '전주시 완산구 효자롯데아파트',\n",
       " '전주시 완산구 효자장례타운',\n",
       " '전주시 완산구 효자주공3단지아파트',\n",
       " '전주시 완산구 효자추모관',\n",
       " '전주시 완산구 효자포스코더샵1차아파트',\n",
       " '전주시 완산구 효자한신휴플러스아파트',\n",
       " '전주시 완산구 효자현대아파트',\n",
       " '전주시 완산구 효자휴먼시아3단지아파트',\n",
       " '전주시 완산구 흥건삼천1차아파트',\n",
       " '전주시 완산구 흥건삼천2차아파트']"
      ]
     },
     "execution_count": 130,
     "metadata": {},
     "output_type": "execute_result"
    }
   ],
   "source": [
    "search_list"
   ]
  },
  {
   "cell_type": "code",
   "execution_count": 34,
   "metadata": {},
   "outputs": [],
   "source": [
    "search_list = sorted((tmap_jj['시군구']+\" \" + tmap_jj['검색지명']).unique())"
   ]
  },
  {
   "cell_type": "code",
   "execution_count": 107,
   "metadata": {},
   "outputs": [],
   "source": [
    "delay = 2.0\n",
    "browser = Chrome()"
   ]
  },
  {
   "cell_type": "code",
   "execution_count": 108,
   "metadata": {},
   "outputs": [],
   "source": [
    "start_url = 'https://www.juso.go.kr/openIndexPage.do'\n",
    "browser.get(start_url)\n",
    "browser.maximize_window()"
   ]
  },
  {
   "cell_type": "code",
   "execution_count": 96,
   "metadata": {},
   "outputs": [],
   "source": [
    "start_url = 'http://land.mahru.co.kr/naver'\n",
    "browser.get(start_url)\n",
    "browser.maximize_window()"
   ]
  },
  {
   "cell_type": "code",
   "execution_count": 122,
   "metadata": {},
   "outputs": [],
   "source": [
    "browser.find_element_by_xpath('/html/body/div[3]/main/div/section[1]/div[1]/form/fieldset/div/div[1]/input[1]').send_keys(search_list[1])"
   ]
  },
  {
   "cell_type": "code",
   "execution_count": 123,
   "metadata": {},
   "outputs": [],
   "source": [
    "browser.find_element_by_xpath('/html/body/div[3]/main/div/section[1]/div[1]/form/fieldset/div/button').click()"
   ]
  },
  {
   "cell_type": "code",
   "execution_count": 112,
   "metadata": {},
   "outputs": [],
   "source": [
    "browser.find_element_by_xpath('/html/body/div[2]/div/main/div[3]/div[2]/ol/li[1]/div[1]/div/div/div[4]/div[4]/a').click()"
   ]
  },
  {
   "cell_type": "code",
   "execution_count": 119,
   "metadata": {},
   "outputs": [
    {
     "data": {
      "text/plain": [
       "'전라북도 전주시 덕진구 우아1동 063-270-6609'"
      ]
     },
     "execution_count": 119,
     "metadata": {},
     "output_type": "execute_result"
    }
   ],
   "source": [
    "browser.find_element_by_xpath('/html/body/div[2]/div/main/div[3]/div[2]/ol/li[1]/div[2]/ul/li[3]/span[1]').text"
   ]
  },
  {
   "cell_type": "code",
   "execution_count": 121,
   "metadata": {},
   "outputs": [],
   "source": [
    "browser.back()"
   ]
  }
 ],
 "metadata": {
  "kernelspec": {
   "display_name": "Python 3",
   "language": "python",
   "name": "python3"
  },
  "language_info": {
   "codemirror_mode": {
    "name": "ipython",
    "version": 3
   },
   "file_extension": ".py",
   "mimetype": "text/x-python",
   "name": "python",
   "nbconvert_exporter": "python",
   "pygments_lexer": "ipython3",
   "version": "3.7.7"
  }
 },
 "nbformat": 4,
 "nbformat_minor": 4
}
