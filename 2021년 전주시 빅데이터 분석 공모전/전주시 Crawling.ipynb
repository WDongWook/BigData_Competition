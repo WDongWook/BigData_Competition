{
 "cells": [
  {
   "cell_type": "code",
   "execution_count": 1,
   "metadata": {},
   "outputs": [],
   "source": [
    "import requests\n",
    "from bs4 import BeautifulSoup\n",
    "import time\n",
    "import urllib.request \n",
    "from selenium.webdriver import Chrome\n",
    "import re     \n",
    "from selenium.webdriver.chrome.options import Options\n",
    "from selenium.webdriver.common.keys import Keys\n",
    "from selenium.common.exceptions import NoSuchElementException,StaleElementReferenceException,ElementClickInterceptedException,ElementNotInteractableException\n",
    "import datetime as dt\n",
    "from urllib.request import urlopen\n",
    "import pandas as pd"
   ]
  },
  {
   "cell_type": "code",
   "execution_count": 2,
   "metadata": {},
   "outputs": [],
   "source": [
    "delay = 2.0\n",
    "browser = Chrome()"
   ]
  },
  {
   "cell_type": "code",
   "execution_count": 4,
   "metadata": {},
   "outputs": [],
   "source": [
    "start_url = 'https://korean.visitkorea.or.kr/list/ms_list.do?choiceTag=%EA%B4%80%EA%B4%91%EC%A7%80&choiceTagId=3f36ca4b-6f45-45cb-9042-265c96a4868c#500.79998779296875^All^All^3f36ca4b-6f45-45cb-9042-265c96a4868c^677^10^^1^#%EA%B4%80%EA%B4%91%EC%A7%80'\n",
    "browser.get(start_url)\n",
    "browser.maximize_window()"
   ]
  },
  {
   "cell_type": "code",
   "execution_count": null,
   "metadata": {},
   "outputs": [],
   "source": [
    "browser.find_element_by_xpath('/html/body/div[2]/div[2]/div[2]/div[2]/ul[2]/li[16]/button').click()\n",
    "browser.find_element_by_xpath('/html/body/div[2]/div[2]/div[2]/div[2]/ul[3]/li[5]/button').click()"
   ]
  },
  {
   "cell_type": "code",
   "execution_count": 139,
   "metadata": {},
   "outputs": [],
   "source": [
    "def crawling_data(name) :\n",
    "    info,title = [],[]\n",
    "    \n",
    "    for i in range(50):\n",
    "        try :\n",
    "            if i == 0:\n",
    "                for a in range(1,7):\n",
    "                    browser.find_element_by_xpath('/html/body/div[2]/div[2]/div[1]/div[2]/a[{}]'.format(a)).click()\n",
    "                    time.sleep(2)\n",
    "                    \n",
    "                    for page in range(1,11) : \n",
    "                        browser.find_element_by_xpath('/html/body/div[2]/div[2]/div[1]/ul/li[{}]/div[2]/div/a'.format(page)).click()\n",
    "                        time.sleep(5)\n",
    "                        title.append(browser.find_element_by_xpath('/html/body/div[3]/div[1]/h2').text)\n",
    "                        try:\n",
    "                            browser.find_element_by_xpath('/html/body/div[3]/div[2]/div[3]/div[4]/div/div[2]/button').click()\n",
    "                            info.append(browser.find_element_by_xpath('/html/body/div[3]/div[2]/div[3]/div[4]/div/div[1]/div').text)\n",
    "                            \n",
    "                        except ElementNotInteractableException:\n",
    "                            info.append(browser.find_element_by_xpath('/html/body/div[3]/div[2]/div[3]/div[4]/div/div[1]/div').text)\n",
    "                            \n",
    "                        except NoSuchElementException :\n",
    "                            try :\n",
    "                                browser.find_element_by_xpath('/html/body/div[3]/div[2]/div[4]/div[4]/div/div[2]/button').click()\n",
    "                                info.append(browser.find_element_by_xpath('/html/body/div[3]/div[2]/div[4]/div[4]/div/div[1]/div').text)\n",
    "                            except ElementNotInteractableException :\n",
    "                                info.append(browser.find_element_by_xpath('/html/body/div[3]/div[2]/div[4]/div[4]/div/div[1]/div').text)\n",
    "                        browser.back()\n",
    "                        time.sleep(2)\n",
    "                \n",
    "            else :\n",
    "                for k in range(4,9) :\n",
    "                    browser.find_element_by_xpath('/html/body/div[2]/div[2]/div[1]/div[2]/a[{}]'.format(k)).click()\n",
    "                    time.sleep(2)\n",
    "                    \n",
    "                    for page in range(1,11) : \n",
    "                        browser.find_element_by_xpath('/html/body/div[2]/div[2]/div[1]/ul/li[{}]/div[2]/div/a'.format(page)).click()\n",
    "                        time.sleep(5)\n",
    "                        title.append(browser.find_element_by_xpath('/html/body/div[3]/div[1]/h2').text)\n",
    "                        try:\n",
    "                            browser.find_element_by_xpath('/html/body/div[3]/div[2]/div[3]/div[4]/div/div[2]/button').click()\n",
    "                            info.append(browser.find_element_by_xpath('/html/body/div[3]/div[2]/div[3]/div[4]/div/div[1]/div').text)\n",
    "                            \n",
    "                        except ElementNotInteractableException:\n",
    "                            info.append(browser.find_element_by_xpath('/html/body/div[3]/div[2]/div[3]/div[4]/div/div[1]/div').text)\n",
    "                            \n",
    "                        except NoSuchElementException :\n",
    "                            try :\n",
    "                                browser.find_element_by_xpath('/html/body/div[3]/div[2]/div[4]/div[4]/div/div[2]/button').click()\n",
    "                                info.append(browser.find_element_by_xpath('/html/body/div[3]/div[2]/div[4]/div[4]/div/div[1]/div').text)\n",
    "                            except ElementNotInteractableException :\n",
    "                                info.append(browser.find_element_by_xpath('/html/body/div[3]/div[2]/div[4]/div[4]/div/div[1]/div').text)\n",
    "                            except NoSuchElementException :\n",
    "                                info.append(browser.find_element_by_xpath('/html/body/div[3]/div[2]/div[3]/div[3]/div/div[1]/div').text)\n",
    "                        browser.back()\n",
    "                        time.sleep(2)\n",
    "                        \n",
    "        except NoSuchElementException :\n",
    "            break\n",
    "            \n",
    "    data = pd.DataFrame(title,columns=['이름'])\n",
    "    data['정보'] = info\n",
    "    data.to_csv(\"{}.csv\".format(name),index = False)"
   ]
  },
  {
   "cell_type": "code",
   "execution_count": 100,
   "metadata": {},
   "outputs": [],
   "source": [
    "tour = pd.DataFrame(title,columns=['관광지'])"
   ]
  },
  {
   "cell_type": "code",
   "execution_count": 120,
   "metadata": {},
   "outputs": [],
   "source": [
    "tour['정보'] = info"
   ]
  },
  {
   "cell_type": "code",
   "execution_count": 122,
   "metadata": {},
   "outputs": [],
   "source": [
    "tour.to_csv('관광지.csv',index = False)"
   ]
  },
  {
   "cell_type": "code",
   "execution_count": 125,
   "metadata": {},
   "outputs": [],
   "source": [
    "culture = pd.DataFrame(title,columns=['문화시설'])\n",
    "culture['정보'] = info\n",
    "culture.to_csv('문화시설.csv',index = False)"
   ]
  },
  {
   "cell_type": "code",
   "execution_count": 136,
   "metadata": {},
   "outputs": [],
   "source": [
    "something = pd.DataFrame(title,columns=['여러개'])\n",
    "something['정보'] = info"
   ]
  },
  {
   "cell_type": "code",
   "execution_count": 138,
   "metadata": {},
   "outputs": [],
   "source": [
    "something.to_csv('여러개.csv',index = False)"
   ]
  },
  {
   "cell_type": "code",
   "execution_count": 140,
   "metadata": {},
   "outputs": [],
   "source": [
    "crawling_data('음식')"
   ]
  },
  {
   "cell_type": "code",
   "execution_count": 143,
   "metadata": {},
   "outputs": [],
   "source": [
    "crawling_data('체험')"
   ]
  },
  {
   "cell_type": "code",
   "execution_count": 145,
   "metadata": {},
   "outputs": [],
   "source": [
    "crawling_data('기타')"
   ]
  },
  {
   "cell_type": "code",
   "execution_count": 159,
   "metadata": {},
   "outputs": [],
   "source": [
    "info,title = [],[]\n",
    "    \n",
    "for i in range(50):\n",
    "    try :\n",
    "        if i == 0:\n",
    "            for a in range(1,7):\n",
    "                browser.find_element_by_xpath('/html/body/div[2]/div[2]/div[1]/div[2]/a[{}]'.format(a)).click()\n",
    "                time.sleep(2)\n",
    "                \n",
    "                for page in range(1,11) : \n",
    "                    browser.find_element_by_xpath('/html/body/div[2]/div[2]/div[1]/ul/li[{}]/div[2]/div/a'.format(page)).click()\n",
    "                    time.sleep(5)\n",
    "                    title.append(browser.find_element_by_xpath('/html/body/div[3]/div[1]/h2').text)\n",
    "                    try :\n",
    "                        browser.find_element_by_xpath('/html/body/div[3]/div[2]/div[3]/div[4]/div/div[2]/button').click()\n",
    "                        info.append(browser.find_element_by_xpath('/html/body/div[3]/div[2]/div[3]/div[4]/div/div[1]').text)\n",
    "                    except ElementNotInteractableException:\n",
    "                        info.append(browser.find_element_by_xpath('/html/body/div[3]/div[2]/div[3]/div[4]/div/div[1]').text)\n",
    "                    except NoSuchElementException:\n",
    "                        info.append(browser.find_element_by_xpath('/html/body/div[3]/div[2]/div[3]/div[4]/div/div[1]').text)\n",
    "                        \n",
    "                    browser.back()\n",
    "                    time.sleep(2.5)\n",
    "        else :\n",
    "            for k in range(4,9) :\n",
    "                browser.find_element_by_xpath('/html/body/div[2]/div[2]/div[1]/div[2]/a[{}]'.format(k)).click()\n",
    "                time.sleep(2)\n",
    "                \n",
    "                for page in range(1,11) : \n",
    "                    browser.find_element_by_xpath('/html/body/div[2]/div[2]/div[1]/ul/li[{}]/div[2]/div/a'.format(page)).click()\n",
    "                    time.sleep(5)\n",
    "                    title.append(browser.find_element_by_xpath('/html/body/div[3]/div[1]/h2').text)\n",
    "                    try :\n",
    "                        browser.find_element_by_xpath('/html/body/div[3]/div[2]/div[3]/div[4]/div/div[2]/button').click()\n",
    "                        info.append(browser.find_element_by_xpath('/html/body/div[3]/div[2]/div[3]/div[4]/div/div[1]').text)\n",
    "                    except ElementNotInteractableException:\n",
    "                        info.append(browser.find_element_by_xpath('/html/body/div[3]/div[2]/div[3]/div[4]/div/div[1]').text)\n",
    "                    except NoSuchElementException:\n",
    "                        info.append(browser.find_element_by_xpath('/html/body/div[3]/div[2]/div[3]/div[4]/div/div[1]').text)\n",
    "              \n",
    "                    browser.back()\n",
    "                    time.sleep(2.5)            \n",
    "                    \n",
    "    except NoSuchElementException :\n",
    "        break"
   ]
  },
  {
   "cell_type": "code",
   "execution_count": 164,
   "metadata": {},
   "outputs": [],
   "source": [
    "accommodation = pd.DataFrame(title,columns=['숙박'])\n",
    "accommodation['정보'] = info"
   ]
  }
 ],
 "metadata": {
  "kernelspec": {
   "display_name": "Python 3",
   "language": "python",
   "name": "python3"
  },
  "language_info": {
   "codemirror_mode": {
    "name": "ipython",
    "version": 3
   },
   "file_extension": ".py",
   "mimetype": "text/x-python",
   "name": "python",
   "nbconvert_exporter": "python",
   "pygments_lexer": "ipython3",
   "version": "3.7.7"
  }
 },
 "nbformat": 4,
 "nbformat_minor": 4
}
