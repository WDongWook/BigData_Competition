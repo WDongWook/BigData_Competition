{
 "cells": [
  {
   "cell_type": "code",
   "execution_count": 1,
   "metadata": {},
   "outputs": [],
   "source": [
    "import requests\n",
    "from bs4 import BeautifulSoup\n",
    "import time\n",
    "import urllib.request \n",
    "from selenium.webdriver import Chrome\n",
    "import re     \n",
    "from selenium.webdriver.chrome.options import Options\n",
    "from selenium.webdriver.common.keys import Keys\n",
    "from selenium.common.exceptions import NoSuchElementException,StaleElementReferenceException,ElementClickInterceptedException,ElementNotInteractableException\n",
    "import datetime as dt\n",
    "from urllib.request import urlopen\n",
    "import pandas as pd"
   ]
  },
  {
   "cell_type": "markdown",
   "metadata": {},
   "source": [
    "## 네이버 VIEW Crawling"
   ]
  },
  {
   "cell_type": "code",
   "execution_count": null,
   "metadata": {},
   "outputs": [],
   "source": [
    "start_url = 'https://www.naver.com'\n",
    "browser.get(start_url)\n",
    "browser.maximize_window()"
   ]
  },
  {
   "cell_type": "code",
   "execution_count": 3,
   "metadata": {},
   "outputs": [],
   "source": [
    "jeonju_dong = pd.read_csv('전주.csv')['행정동'].to_list()"
   ]
  },
  {
   "cell_type": "code",
   "execution_count": 5,
   "metadata": {},
   "outputs": [],
   "source": [
    "def NaverView_Crawling(dong) :\n",
    "    \n",
    "    browser.find_element_by_xpath('/html/body/div[2]/div[2]/div[1]/div/div[3]/form/fieldset/button').click() ### 검색결과로 가기\n",
    "    time.sleep(1.5)\n",
    "    \n",
    "    browser.find_element_by_xpath('/html/body/div[3]/div[1]/div/div[2]/div[1]/div/ul/li[2]/a').click() ### VIEW 클릭\n",
    "    time.sleep(1.2)\n",
    "    \n",
    "    browser.find_element_by_xpath('/html/body/div[3]/div[1]/div/div[1]/div[1]/div/form/fieldset/div[1]/input').send_keys(dong)\n",
    "    time.sleep(1.3)\n",
    "    \n",
    "    browser.find_element_by_xpath('/html/body/div[3]/div[1]/div/div[1]/div[1]/div/form/fieldset/button').click() ### 동 검색 클릭\n",
    "    time.sleep(1.5)\n",
    "    \n",
    "    #### 끝까지 내리기\n",
    "    \n",
    "    prev_height = browser.execute_script(\"return document.body.scrollHeight\")\n",
    "    \n",
    "    while True :\n",
    "        browser.execute_script(\"window.scrollTo(0,document.body.scrollHeight)\")\n",
    "        time.sleep(1)\n",
    "    \n",
    "        curr_height = browser.execute_script(\"return document.body.scrollHeight\")\n",
    "    \n",
    "        if curr_height == prev_height :\n",
    "            break\n",
    "        else :\n",
    "            prev_height = browser.execute_script(\"return document.body.scrollHeight\")\n",
    "            \n",
    "    view_name = []        \n",
    "    date_list = []\n",
    "    view_list = []\n",
    "    \n",
    "    for i in range(1,100000) :\n",
    "        try :\n",
    "            view_name.append(browser.find_element_by_xpath('/html/body/div[3]/div[2]/div/div[1]/section/div/div[2]/panel-list/div/more-contents/div/ul/li[{}]/div/div[1]/span/span/span[2]/a'.format(i)).text) ### view명\n",
    "            date_list.append(browser.find_element_by_xpath('/html/body/div[3]/div[2]/div/div[1]/section/div/div[2]/panel-list/div/more-contents/div/ul/li[{}]/div[1]/div[1]/span/span/span[1]/span'.format(i)).text) ### 날짜\n",
    "            try :\n",
    "                view_list.append(browser.find_element_by_xpath('/html/body/div[3]/div[2]/div/div[1]/section/div/div[2]/panel-list/div/more-contents/div/ul/li[{}]/div[1]/a[2]'.format(i)).text) ### 블로그    \n",
    "            except NoSuchElementException :\n",
    "                view_list.append(browser.find_element_by_xpath('/html/body/div[3]/div[2]/div/div[1]/section/div/div[2]/panel-list/div/more-contents/div/ul/li[{}]/div/a'.format(i)).text) ##카페\n",
    "                \n",
    "        except NoSuchElementException :\n",
    "            break\n",
    "            \n",
    "    naver_df = pd.DataFrame(columns=['행정동'])        \n",
    "    naver_df['뷰_이름'] = view_name\n",
    "    naver_df['날짜'] = date_list\n",
    "    naver_df['제목'] = view_list\n",
    "    naver_df['행정동'] = dong\n",
    "    \n",
    "    browser.find_element_by_xpath('/html/body/div[3]/div[1]/div/div[1]/div[1]/div/h1/a/img').click() ## 메인화면으로 돌아가기\n",
    "    time.sleep(1.5)\n",
    "    \n",
    "    return naver_df"
   ]
  },
  {
   "cell_type": "code",
   "execution_count": 6,
   "metadata": {},
   "outputs": [],
   "source": [
    "naver_jeonju = pd.DataFrame(columns=['행정동','뷰_이름','날짜','제목'])\n",
    "for dong in jeonju_dong :\n",
    "    naver_jeonju = pd.concat([naver_jeonju,NaverView_Crawling(dong)],axis = 0)"
   ]
  },
  {
   "cell_type": "code",
   "execution_count": 9,
   "metadata": {},
   "outputs": [],
   "source": [
    "naver_jeonju =naver_jeonju.reset_index(drop = True)"
   ]
  },
  {
   "cell_type": "code",
   "execution_count": 10,
   "metadata": {},
   "outputs": [],
   "source": [
    "naver_jeonju.to_csv(\"전주_네이버.csv\",index = False)"
   ]
  },
  {
   "cell_type": "code",
   "execution_count": 11,
   "metadata": {
    "scrolled": true
   },
   "outputs": [
    {
     "data": {
      "text/html": [
       "<div>\n",
       "<style scoped>\n",
       "    .dataframe tbody tr th:only-of-type {\n",
       "        vertical-align: middle;\n",
       "    }\n",
       "\n",
       "    .dataframe tbody tr th {\n",
       "        vertical-align: top;\n",
       "    }\n",
       "\n",
       "    .dataframe thead th {\n",
       "        text-align: right;\n",
       "    }\n",
       "</style>\n",
       "<table border=\"1\" class=\"dataframe\">\n",
       "  <thead>\n",
       "    <tr style=\"text-align: right;\">\n",
       "      <th></th>\n",
       "      <th>행정동</th>\n",
       "      <th>뷰_이름</th>\n",
       "      <th>날짜</th>\n",
       "      <th>제목</th>\n",
       "    </tr>\n",
       "  </thead>\n",
       "  <tbody>\n",
       "    <tr>\n",
       "      <th>0</th>\n",
       "      <td>금암1동</td>\n",
       "      <td>더런드리 셀프빨래방 전주금암점</td>\n",
       "      <td>2021.03.16.</td>\n",
       "      <td>금암 1동에서 금암 2동으로 이사하신 고객님께서 이불 빨래하셨어요.</td>\n",
       "    </tr>\n",
       "    <tr>\n",
       "      <th>1</th>\n",
       "      <td>금암1동</td>\n",
       "      <td>다큐TV</td>\n",
       "      <td>2020.07.15.</td>\n",
       "      <td>[다큐TV]전주시, 금암1동 정체성 담긴 마을로고 공모</td>\n",
       "    </tr>\n",
       "    <tr>\n",
       "      <th>2</th>\n",
       "      <td>금암1동</td>\n",
       "      <td>전주부동산의 모든것 카페-효천지구,만성지구,에코시티,혁신도시</td>\n",
       "      <td>2021.04.02.</td>\n",
       "      <td>금암1동 단톡주택단지 내놓습니다 (교보생명 뒤)</td>\n",
       "    </tr>\n",
       "    <tr>\n",
       "      <th>3</th>\n",
       "      <td>금암1동</td>\n",
       "      <td>전주 뚱땡이 샌드위치</td>\n",
       "      <td>2020.07.14.</td>\n",
       "      <td>전주시청*금암1동주민*우아1동주민*잇올스파르타 독서실^^</td>\n",
       "    </tr>\n",
       "    <tr>\n",
       "      <th>4</th>\n",
       "      <td>금암1동</td>\n",
       "      <td>◆피터팬의 좋은방구하기◆전주시점-원룸/오피스텔/부동산직거래</td>\n",
       "      <td>2020.09.28.</td>\n",
       "      <td>금암1동쪽 월세집구합니다.</td>\n",
       "    </tr>\n",
       "    <tr>\n",
       "      <th>...</th>\n",
       "      <td>...</td>\n",
       "      <td>...</td>\n",
       "      <td>...</td>\n",
       "      <td>...</td>\n",
       "    </tr>\n",
       "    <tr>\n",
       "      <th>3342</th>\n",
       "      <td>효자5동</td>\n",
       "      <td>우마동- 강아지,고양이무료분양,애완동물,고슴도치,열대어분양</td>\n",
       "      <td>2021.02.28.</td>\n",
       "      <td>❤️홈딜리버리❤️오랜만에 돌아온 미유펫인천점의 병원오픈기념❤️ 특별할인이벤트!!사랑...</td>\n",
       "    </tr>\n",
       "    <tr>\n",
       "      <th>3343</th>\n",
       "      <td>효자5동</td>\n",
       "      <td>우마동- 강아지,고양이무료분양,애완동물,고슴도치,열대어분양</td>\n",
       "      <td>6일 전</td>\n",
       "      <td>전국홈딜리버리미유펫인천점말티55~비숑55~푸들65~!1층분양/미용 2층자체병원인천최...</td>\n",
       "    </tr>\n",
       "    <tr>\n",
       "      <th>3344</th>\n",
       "      <td>효자5동</td>\n",
       "      <td>강아지분양,고양이분양,강아지,고양이,유기견묘,무료분양 미유펫</td>\n",
       "      <td>2020.10.16.</td>\n",
       "      <td>부산강아지분양 100여마리의 아기들을! 모두다 할인이벤트가격으로 분양중입니당♥(새로...</td>\n",
       "    </tr>\n",
       "    <tr>\n",
       "      <th>3345</th>\n",
       "      <td>효자5동</td>\n",
       "      <td>우마동- 강아지,고양이무료분양,애완동물,고슴도치,열대어분양</td>\n",
       "      <td>2021.04.25.</td>\n",
       "      <td>전국홈딜리버리미유펫인천점말티55~비숑55~푸들65~!1층분양/미용 2층자체병원인천최...</td>\n",
       "    </tr>\n",
       "    <tr>\n",
       "      <th>3346</th>\n",
       "      <td>효자5동</td>\n",
       "      <td>중고나라</td>\n",
       "      <td>2018.10.08.</td>\n",
       "      <td>전주 신시가지(효자5동) 가정/사무용 3인용 쇼파(1만원) 팝니다.</td>\n",
       "    </tr>\n",
       "  </tbody>\n",
       "</table>\n",
       "<p>3347 rows × 4 columns</p>\n",
       "</div>"
      ],
      "text/plain": [
       "       행정동                               뷰_이름           날짜  \\\n",
       "0     금암1동                   더런드리 셀프빨래방 전주금암점  2021.03.16.   \n",
       "1     금암1동                               다큐TV  2020.07.15.   \n",
       "2     금암1동  전주부동산의 모든것 카페-효천지구,만성지구,에코시티,혁신도시  2021.04.02.   \n",
       "3     금암1동                        전주 뚱땡이 샌드위치  2020.07.14.   \n",
       "4     금암1동   ◆피터팬의 좋은방구하기◆전주시점-원룸/오피스텔/부동산직거래  2020.09.28.   \n",
       "...    ...                                ...          ...   \n",
       "3342  효자5동   우마동- 강아지,고양이무료분양,애완동물,고슴도치,열대어분양  2021.02.28.   \n",
       "3343  효자5동   우마동- 강아지,고양이무료분양,애완동물,고슴도치,열대어분양         6일 전   \n",
       "3344  효자5동  강아지분양,고양이분양,강아지,고양이,유기견묘,무료분양 미유펫  2020.10.16.   \n",
       "3345  효자5동   우마동- 강아지,고양이무료분양,애완동물,고슴도치,열대어분양  2021.04.25.   \n",
       "3346  효자5동                               중고나라  2018.10.08.   \n",
       "\n",
       "                                                     제목  \n",
       "0                 금암 1동에서 금암 2동으로 이사하신 고객님께서 이불 빨래하셨어요.  \n",
       "1                        [다큐TV]전주시, 금암1동 정체성 담긴 마을로고 공모  \n",
       "2                            금암1동 단톡주택단지 내놓습니다 (교보생명 뒤)  \n",
       "3                       전주시청*금암1동주민*우아1동주민*잇올스파르타 독서실^^  \n",
       "4                                        금암1동쪽 월세집구합니다.  \n",
       "...                                                 ...  \n",
       "3342  ❤️홈딜리버리❤️오랜만에 돌아온 미유펫인천점의 병원오픈기념❤️ 특별할인이벤트!!사랑...  \n",
       "3343  전국홈딜리버리미유펫인천점말티55~비숑55~푸들65~!1층분양/미용 2층자체병원인천최...  \n",
       "3344  부산강아지분양 100여마리의 아기들을! 모두다 할인이벤트가격으로 분양중입니당♥(새로...  \n",
       "3345  전국홈딜리버리미유펫인천점말티55~비숑55~푸들65~!1층분양/미용 2층자체병원인천최...  \n",
       "3346              전주 신시가지(효자5동) 가정/사무용 3인용 쇼파(1만원) 팝니다.  \n",
       "\n",
       "[3347 rows x 4 columns]"
      ]
     },
     "execution_count": 11,
     "metadata": {},
     "output_type": "execute_result"
    }
   ],
   "source": [
    "naver_jeonju"
   ]
  },
  {
   "cell_type": "markdown",
   "metadata": {},
   "source": [
    "# Instagram"
   ]
  },
  {
   "cell_type": "code",
   "execution_count": 3,
   "metadata": {},
   "outputs": [],
   "source": [
    "def Insta_Crawling(want,df_name,target_num) :\n",
    "    \n",
    "    delay = 2.0\n",
    "    browser = Chrome()\n",
    "    \n",
    "    start_url = 'https://www.instagram.com/?hl=ko'\n",
    "    browser.get(start_url)\n",
    "    browser.maximize_window()\n",
    "    time.sleep(1)\n",
    "    browser.find_element_by_xpath('/html/body/div[1]/section/main/article/div[2]/div[1]/div/form/div/div[1]/div/label/input').send_keys('01053063058')\n",
    "    time.sleep(1)\n",
    "    browser.find_element_by_xpath('/html/body/div[1]/section/main/article/div[2]/div[1]/div/form/div/div[2]/div/label/input').send_keys('!@Whdid501')\n",
    "    time.sleep(1)\n",
    "    browser.find_element_by_xpath('/html/body/div[1]/section/main/article/div[2]/div[1]/div/form/div/div[3]').click()\n",
    "    time.sleep(7)\n",
    "    browser.find_element_by_xpath('/html/body/div[1]/section/main/div/div/div/div/button').click()\n",
    "    time.sleep(1)\n",
    "    browser.find_element_by_xpath('/html/body/div[4]/div/div/div/div[3]/button[2]').click()\n",
    "    time.sleep(2)\n",
    "    \n",
    "    browser.get('https://www.instagram.com/explore/tags/{}'.format(want))\n",
    "    time.sleep(10)\n",
    "    \n",
    "    first = browser.find_element_by_css_selector('div._9AhH0')\n",
    "    time.sleep(2)\n",
    "    first.click()\n",
    "    time.sleep(5)\n",
    "    hashtags = []\n",
    "    \n",
    "    for i in range(target_num) :\n",
    "        if browser.find_element_by_xpath('/html/body/div[5]/div[2]/div/article/div[3]/div[1]').text =='' or browser.find_element_by_xpath('/html/body/div[5]/div[2]/div/article/header/div[2]/div[1]/div[1]/span/a').text not in browser.find_element_by_xpath('/html/body/div[5]/div[2]/div/article/div[3]/div[1]/ul').text.split('\\n'):\n",
    "            hashtags.append(' ')\n",
    "            time.sleep(4.5)\n",
    "        \n",
    "        elif browser.find_element_by_xpath('/html/body/div[5]/div[2]/div/article/div[3]/div[1]').text !='' :\n",
    "            id_list = []\n",
    "            for i in range(1,100) :\n",
    "                try :\n",
    "                    id_list.append(browser.find_element_by_xpath('/html/body/div[5]/div[2]/div/article/div[3]/div[1]/ul/ul[{}]/div/li/div/div[1]/div[2]/h3/div/span/a'.format(i)).text)\n",
    "                except NoSuchElementException :\n",
    "                    break\n",
    "        \n",
    "            time.sleep(4.5)\n",
    "            number_list = [i+1 for i,v in enumerate(id_list) if v == browser.find_element_by_xpath('/html/body/div[5]/div[2]/div/article/header/div[2]/div[1]/div[1]/span/a').text]\n",
    "        \n",
    "            for num in number_list :\n",
    "                if '답글 보기' in browser.find_element_by_xpath('/html/body/div[5]/div[2]/div/article/div[3]/div[1]/ul/ul[{}]'.format(num)).text:\n",
    "                    browser.find_element_by_xpath('/html/body/div[5]/div[2]/div/article/div[3]/div[1]/ul/ul[{}]/li/ul/li/div/button/span'.format(num)).click()    \n",
    "        \n",
    "            value = []\n",
    "            for t in re.findall(r'#[^\\s#,\\\\]+',browser.find_element_by_xpath('/html/body/div[5]/div[2]/div/article/div[3]/div[1]/ul').text) :\n",
    "                value.append(t.replace('#',''))\n",
    "            \n",
    "            hashtags.append(value)\n",
    "            time.sleep(4.5)\n",
    "        \n",
    "        elif '#' in browser.find_element_by_xpath('/html/body/div[5]/div[2]/div/article/div[3]/div[1]/ul').text :\n",
    "            value = []\n",
    "            for t in re.findall(r'#[^\\s#,\\\\]+',browser.find_element_by_xpath('/html/body/div[45/div[2]/div/article/div[3]/div[1]/ul').text):\n",
    "                value.append(t.replace('#',''))\n",
    "        \n",
    "            hashtags.append(value)\n",
    "            time.sleep(4.5)\n",
    "        \n",
    "        else :\n",
    "            hashtags.append(' ')\n",
    "            time.sleep(4.5)\n",
    "        try :\n",
    "            right = browser.find_element_by_css_selector('a._65Bje.coreSpriteRightPaginationArrow')\n",
    "            right.click()\n",
    "            time.sleep(5)\n",
    "        except NoSuchElementException:\n",
    "            break\n",
    "\n",
    "    df = pd.DataFrame(columns=['hashtags'])\n",
    "    df['hashtags'] = [' '.join(hashtags[i]) for i in range(len(hashtags))]\n",
    "    df['키워드'] = str(df_name)\n",
    "    df.to_csv(\"{}해시태그.csv\".format(df_name),index = False)\n",
    "    \n",
    "    browser.find_element_by_xpath('/html/body/div[5]/div[3]/button').click()\n",
    "    time.sleep(1.5)\n",
    "    browser.close()\n",
    "    time.sleep(3)\n",
    "    \n",
    "    return df.head()"
   ]
  },
  {
   "cell_type": "code",
   "execution_count": 106,
   "metadata": {},
   "outputs": [
    {
     "data": {
      "text/html": [
       "<div>\n",
       "<style scoped>\n",
       "    .dataframe tbody tr th:only-of-type {\n",
       "        vertical-align: middle;\n",
       "    }\n",
       "\n",
       "    .dataframe tbody tr th {\n",
       "        vertical-align: top;\n",
       "    }\n",
       "\n",
       "    .dataframe thead th {\n",
       "        text-align: right;\n",
       "    }\n",
       "</style>\n",
       "<table border=\"1\" class=\"dataframe\">\n",
       "  <thead>\n",
       "    <tr style=\"text-align: right;\">\n",
       "      <th></th>\n",
       "      <th>hashtags</th>\n",
       "    </tr>\n",
       "  </thead>\n",
       "  <tbody>\n",
       "    <tr>\n",
       "      <th>0</th>\n",
       "      <td>출근 daily dailylook instadaily goodday now fff ...</td>\n",
       "    </tr>\n",
       "    <tr>\n",
       "      <th>1</th>\n",
       "      <td>korea selfie fff f4f lfl ootd daily dailylook ...</td>\n",
       "    </tr>\n",
       "    <tr>\n",
       "      <th>2</th>\n",
       "      <td>전주 송천동 에코시티 세병공원 세병호 씽씽 03 19 열아홉 고3 날씨좋다☀️ 나들...</td>\n",
       "    </tr>\n",
       "    <tr>\n",
       "      <th>3</th>\n",
       "      <td>selfie selica selstagram daily ootd dailylook ...</td>\n",
       "    </tr>\n",
       "    <tr>\n",
       "      <th>4</th>\n",
       "      <td>충장로카페 팔로우 셀카 셀피 동성로 둔산동 가로수길 신시가지 수성못 일상 데일리 감...</td>\n",
       "    </tr>\n",
       "  </tbody>\n",
       "</table>\n",
       "</div>"
      ],
      "text/plain": [
       "                                            hashtags\n",
       "0  출근 daily dailylook instadaily goodday now fff ...\n",
       "1  korea selfie fff f4f lfl ootd daily dailylook ...\n",
       "2  전주 송천동 에코시티 세병공원 세병호 씽씽 03 19 열아홉 고3 날씨좋다☀️ 나들...\n",
       "3  selfie selica selstagram daily ootd dailylook ...\n",
       "4  충장로카페 팔로우 셀카 셀피 동성로 둔산동 가로수길 신시가지 수성못 일상 데일리 감..."
      ]
     },
     "execution_count": 106,
     "metadata": {},
     "output_type": "execute_result"
    }
   ],
   "source": [
    "Insta_Crawling(tag_list[0],'전주해시태그',500)"
   ]
  },
  {
   "cell_type": "code",
   "execution_count": 5,
   "metadata": {},
   "outputs": [],
   "source": [
    "tag_list = [ '전주여행', '전주카페','전주맛집','전주한옥마을','전주데이트', '전주신시가지', '전주가볼만한곳','전주핫플', '전주투어']"
   ]
  },
  {
   "cell_type": "code",
   "execution_count": 14,
   "metadata": {},
   "outputs": [
    {
     "data": {
      "text/html": [
       "<div>\n",
       "<style scoped>\n",
       "    .dataframe tbody tr th:only-of-type {\n",
       "        vertical-align: middle;\n",
       "    }\n",
       "\n",
       "    .dataframe tbody tr th {\n",
       "        vertical-align: top;\n",
       "    }\n",
       "\n",
       "    .dataframe thead th {\n",
       "        text-align: right;\n",
       "    }\n",
       "</style>\n",
       "<table border=\"1\" class=\"dataframe\">\n",
       "  <thead>\n",
       "    <tr style=\"text-align: right;\">\n",
       "      <th></th>\n",
       "      <th>hashtags</th>\n",
       "      <th>키워드</th>\n",
       "    </tr>\n",
       "  </thead>\n",
       "  <tbody>\n",
       "    <tr>\n",
       "      <th>0</th>\n",
       "      <td>coffee cafetour ondocamera cafestagram ondocam...</td>\n",
       "      <td>전주카페</td>\n",
       "    </tr>\n",
       "    <tr>\n",
       "      <th>1</th>\n",
       "      <td>제주 제주도 jeju insta 전주 전주근교카페 전주카...</td>\n",
       "      <td>전주카페</td>\n",
       "    </tr>\n",
       "    <tr>\n",
       "      <th>2</th>\n",
       "      <td>왓더블랙 왓더그레이 전주맛집추천 전북대맛집 전주객사맛집 객사맛집 객리단길맛집 전주신...</td>\n",
       "      <td>전주카페</td>\n",
       "    </tr>\n",
       "    <tr>\n",
       "      <th>3</th>\n",
       "      <td>빈타이 빈타이혁신점 전주카페 전주혁신도시 객리단길 객리단길카페 전주카페추천 카페추천...</td>\n",
       "      <td>전주카페</td>\n",
       "    </tr>\n",
       "    <tr>\n",
       "      <th>4</th>\n",
       "      <td>인스타그램 셀스타그램 얼스타그램 셀피 셀카 일상 소통 좋아요 좋아요반사 좋반 첫줄 ...</td>\n",
       "      <td>전주카페</td>\n",
       "    </tr>\n",
       "  </tbody>\n",
       "</table>\n",
       "</div>"
      ],
      "text/plain": [
       "                                            hashtags   키워드\n",
       "0  coffee cafetour ondocamera cafestagram ondocam...  전주카페\n",
       "1  제주 제주도 jeju insta 전주 전주근교카페 전주카...  전주카페\n",
       "2  왓더블랙 왓더그레이 전주맛집추천 전북대맛집 전주객사맛집 객사맛집 객리단길맛집 전주신...  전주카페\n",
       "3  빈타이 빈타이혁신점 전주카페 전주혁신도시 객리단길 객리단길카페 전주카페추천 카페추천...  전주카페\n",
       "4  인스타그램 셀스타그램 얼스타그램 셀피 셀카 일상 소통 좋아요 좋아요반사 좋반 첫줄 ...  전주카페"
      ]
     },
     "execution_count": 14,
     "metadata": {},
     "output_type": "execute_result"
    }
   ],
   "source": [
    "Insta_Crawling(tag_list[1],'전주카페',300)"
   ]
  },
  {
   "cell_type": "code",
   "execution_count": 17,
   "metadata": {},
   "outputs": [
    {
     "data": {
      "text/html": [
       "<div>\n",
       "<style scoped>\n",
       "    .dataframe tbody tr th:only-of-type {\n",
       "        vertical-align: middle;\n",
       "    }\n",
       "\n",
       "    .dataframe tbody tr th {\n",
       "        vertical-align: top;\n",
       "    }\n",
       "\n",
       "    .dataframe thead th {\n",
       "        text-align: right;\n",
       "    }\n",
       "</style>\n",
       "<table border=\"1\" class=\"dataframe\">\n",
       "  <thead>\n",
       "    <tr style=\"text-align: right;\">\n",
       "      <th></th>\n",
       "      <th>hashtags</th>\n",
       "      <th>키워드</th>\n",
       "    </tr>\n",
       "  </thead>\n",
       "  <tbody>\n",
       "    <tr>\n",
       "      <th>0</th>\n",
       "      <td>일상 데일리 일상스타그램 데일리그램 여행스타그램 전주여행 전주한옥마을 전주 여행에미...</td>\n",
       "      <td>전주여행</td>\n",
       "    </tr>\n",
       "    <tr>\n",
       "      <th>1</th>\n",
       "      <td>전주 전주여행 전주한옥마을 전라도여행 전주한옥마을한복 전주여행코스 애견동반전주여행 ...</td>\n",
       "      <td>전주여행</td>\n",
       "    </tr>\n",
       "    <tr>\n",
       "      <th>2</th>\n",
       "      <td>전주여행 조팝나무 공조팝 전주수목원 찍길동_전주 전주가볼만한곳 전주 전주핫플레이스 ...</td>\n",
       "      <td>전주여행</td>\n",
       "    </tr>\n",
       "    <tr>\n",
       "      <th>3</th>\n",
       "      <td>홍오커플 경기전 경기전돌담길 전주한옥마을 전주한옥마을맛집 전주카페 전주가볼만한곳 라...</td>\n",
       "      <td>전주여행</td>\n",
       "    </tr>\n",
       "    <tr>\n",
       "      <th>4</th>\n",
       "      <td>한복남 전주한옥마을 전주한옥마을한복대여 전주한옥마을한복대여는한복남 전주여행 한복 한...</td>\n",
       "      <td>전주여행</td>\n",
       "    </tr>\n",
       "  </tbody>\n",
       "</table>\n",
       "</div>"
      ],
      "text/plain": [
       "                                            hashtags   키워드\n",
       "0  일상 데일리 일상스타그램 데일리그램 여행스타그램 전주여행 전주한옥마을 전주 여행에미...  전주여행\n",
       "1  전주 전주여행 전주한옥마을 전라도여행 전주한옥마을한복 전주여행코스 애견동반전주여행 ...  전주여행\n",
       "2  전주여행 조팝나무 공조팝 전주수목원 찍길동_전주 전주가볼만한곳 전주 전주핫플레이스 ...  전주여행\n",
       "3  홍오커플 경기전 경기전돌담길 전주한옥마을 전주한옥마을맛집 전주카페 전주가볼만한곳 라...  전주여행\n",
       "4  한복남 전주한옥마을 전주한옥마을한복대여 전주한옥마을한복대여는한복남 전주여행 한복 한...  전주여행"
      ]
     },
     "execution_count": 17,
     "metadata": {},
     "output_type": "execute_result"
    }
   ],
   "source": [
    "Insta_Crawling(tag_list[0],'전주여행',300)"
   ]
  },
  {
   "cell_type": "code",
   "execution_count": 24,
   "metadata": {},
   "outputs": [
    {
     "data": {
      "text/html": [
       "<div>\n",
       "<style scoped>\n",
       "    .dataframe tbody tr th:only-of-type {\n",
       "        vertical-align: middle;\n",
       "    }\n",
       "\n",
       "    .dataframe tbody tr th {\n",
       "        vertical-align: top;\n",
       "    }\n",
       "\n",
       "    .dataframe thead th {\n",
       "        text-align: right;\n",
       "    }\n",
       "</style>\n",
       "<table border=\"1\" class=\"dataframe\">\n",
       "  <thead>\n",
       "    <tr style=\"text-align: right;\">\n",
       "      <th></th>\n",
       "      <th>hashtags</th>\n",
       "      <th>키워드</th>\n",
       "    </tr>\n",
       "  </thead>\n",
       "  <tbody>\n",
       "    <tr>\n",
       "      <th>0</th>\n",
       "      <td>브런치 전주맛집 전주브런치 전주요거트 프렌치토스트 겹빵 신시가지카페 고하우스</td>\n",
       "      <td>전주맛집</td>\n",
       "    </tr>\n",
       "    <tr>\n",
       "      <th>1</th>\n",
       "      <td>전주맛집 객리단길 목련 전주 전주이자카야 전주맛집추천 전북대맛집 전주객사맛집 객사맛...</td>\n",
       "      <td>전주맛집</td>\n",
       "    </tr>\n",
       "    <tr>\n",
       "      <th>2</th>\n",
       "      <td>전주 방구석1열 크림파스타 육회비빔밥 전주맛집 맛스타그램 먹스타그램 맛스타 먹스타 ...</td>\n",
       "      <td>전주맛집</td>\n",
       "    </tr>\n",
       "    <tr>\n",
       "      <th>3</th>\n",
       "      <td>전주맛집 다가생구이 객사맛집 국내여행 전주가볼만한곳 먹방 셀카 셀피 얼스타그램 인친...</td>\n",
       "      <td>전주맛집</td>\n",
       "    </tr>\n",
       "    <tr>\n",
       "      <th>4</th>\n",
       "      <td>전주맛집 요가파이어 전주 신시가지 매운맛집 전주맛집추천 전북대맛집 전주객사맛집 객사...</td>\n",
       "      <td>전주맛집</td>\n",
       "    </tr>\n",
       "  </tbody>\n",
       "</table>\n",
       "</div>"
      ],
      "text/plain": [
       "                                            hashtags   키워드\n",
       "0         브런치 전주맛집 전주브런치 전주요거트 프렌치토스트 겹빵 신시가지카페 고하우스  전주맛집\n",
       "1  전주맛집 객리단길 목련 전주 전주이자카야 전주맛집추천 전북대맛집 전주객사맛집 객사맛...  전주맛집\n",
       "2  전주 방구석1열 크림파스타 육회비빔밥 전주맛집 맛스타그램 먹스타그램 맛스타 먹스타 ...  전주맛집\n",
       "3  전주맛집 다가생구이 객사맛집 국내여행 전주가볼만한곳 먹방 셀카 셀피 얼스타그램 인친...  전주맛집\n",
       "4  전주맛집 요가파이어 전주 신시가지 매운맛집 전주맛집추천 전북대맛집 전주객사맛집 객사...  전주맛집"
      ]
     },
     "execution_count": 24,
     "metadata": {},
     "output_type": "execute_result"
    }
   ],
   "source": [
    "Insta_Crawling(tag_list[2],'전주맛집',300)"
   ]
  },
  {
   "cell_type": "code",
   "execution_count": 30,
   "metadata": {},
   "outputs": [
    {
     "data": {
      "text/html": [
       "<div>\n",
       "<style scoped>\n",
       "    .dataframe tbody tr th:only-of-type {\n",
       "        vertical-align: middle;\n",
       "    }\n",
       "\n",
       "    .dataframe tbody tr th {\n",
       "        vertical-align: top;\n",
       "    }\n",
       "\n",
       "    .dataframe thead th {\n",
       "        text-align: right;\n",
       "    }\n",
       "</style>\n",
       "<table border=\"1\" class=\"dataframe\">\n",
       "  <thead>\n",
       "    <tr style=\"text-align: right;\">\n",
       "      <th></th>\n",
       "      <th>hashtags</th>\n",
       "      <th>키워드</th>\n",
       "    </tr>\n",
       "  </thead>\n",
       "  <tbody>\n",
       "    <tr>\n",
       "      <th>0</th>\n",
       "      <td>전주경성의복 전주한옥마을한복대여 전주한복대여 전주한옥마을 전주한옥마을카페 전주한옥마...</td>\n",
       "      <td>전주한옥마을</td>\n",
       "    </tr>\n",
       "    <tr>\n",
       "      <th>1</th>\n",
       "      <td>전주맛집 전주 객리단길 리틀버터 전주맛집추천 전북대맛집 전주객사맛집 객사맛집 객리단...</td>\n",
       "      <td>전주한옥마을</td>\n",
       "    </tr>\n",
       "    <tr>\n",
       "      <th>2</th>\n",
       "      <td>전주맛집 전주 데이트코스 전주 실내데이트 전주맛집추천 전북대맛집 전주객사맛집 객사맛...</td>\n",
       "      <td>전주한옥마을</td>\n",
       "    </tr>\n",
       "    <tr>\n",
       "      <th>3</th>\n",
       "      <td>전주한옥마을 한복 추억팔이 추팔중 포토그래피 선팔 맞팔 고딩스타그램 고1 05년생 ...</td>\n",
       "      <td>전주한옥마을</td>\n",
       "    </tr>\n",
       "    <tr>\n",
       "      <th>4</th>\n",
       "      <td>한복남 전주한옥마을 전주한옥마을한복대여 전주한옥마을한복대여는한복남 전주여행 한복 한...</td>\n",
       "      <td>전주한옥마을</td>\n",
       "    </tr>\n",
       "  </tbody>\n",
       "</table>\n",
       "</div>"
      ],
      "text/plain": [
       "                                            hashtags     키워드\n",
       "0  전주경성의복 전주한옥마을한복대여 전주한복대여 전주한옥마을 전주한옥마을카페 전주한옥마...  전주한옥마을\n",
       "1  전주맛집 전주 객리단길 리틀버터 전주맛집추천 전북대맛집 전주객사맛집 객사맛집 객리단...  전주한옥마을\n",
       "2  전주맛집 전주 데이트코스 전주 실내데이트 전주맛집추천 전북대맛집 전주객사맛집 객사맛...  전주한옥마을\n",
       "3  전주한옥마을 한복 추억팔이 추팔중 포토그래피 선팔 맞팔 고딩스타그램 고1 05년생 ...  전주한옥마을\n",
       "4  한복남 전주한옥마을 전주한옥마을한복대여 전주한옥마을한복대여는한복남 전주여행 한복 한...  전주한옥마을"
      ]
     },
     "execution_count": 30,
     "metadata": {},
     "output_type": "execute_result"
    }
   ],
   "source": [
    "Insta_Crawling(tag_list[3],'전주한옥마을',300)"
   ]
  },
  {
   "cell_type": "code",
   "execution_count": null,
   "metadata": {},
   "outputs": [],
   "source": [
    "for i in range(5,len(tag_list)) :\n",
    "    Insta_Crawling(tag_list[i],tag_list[i],300)"
   ]
  },
  {
   "cell_type": "markdown",
   "metadata": {},
   "source": [
    "## T-Map"
   ]
  },
  {
   "cell_type": "code",
   "execution_count": 5,
   "metadata": {},
   "outputs": [],
   "source": [
    "search_df = pd.read_csv('검색지.csv')"
   ]
  },
  {
   "cell_type": "code",
   "execution_count": 8,
   "metadata": {},
   "outputs": [],
   "source": [
    "import os"
   ]
  },
  {
   "cell_type": "code",
   "execution_count": 11,
   "metadata": {},
   "outputs": [],
   "source": [
    "tmap_dir = os.getcwd() + \"\\\\tmap19\\\\\"\n",
    "tmap = pd.DataFrame()\n",
    "for f in os.listdir(tmap_dir) :\n",
    "    tmap = pd.concat([tmap,pd.read_csv(tmap_dir + f)],axis = 0,ignore_index=True)"
   ]
  },
  {
   "cell_type": "code",
   "execution_count": 13,
   "metadata": {},
   "outputs": [],
   "source": [
    "tmap =tmap.rename(columns={\"지역(시도)\" : \"시도\",\"지역(시군구)\" : \"시군구\"})\n",
    "jeonju_list = ['전주시 덕진구', '전주시 완산구']\n",
    "tmap_jj = tmap.query('시군구 in @jeonju_list')\n",
    "tmap_jj = tmap_jj.sort_values(by='일자').reset_index(drop = True)"
   ]
  },
  {
   "cell_type": "code",
   "execution_count": 15,
   "metadata": {},
   "outputs": [],
   "source": [
    "search_list = ['여행/레저', '쇼핑','생활편의']\n",
    "tmap_df = tmap_jj.query('검색지유형1 in @search_list')"
   ]
  },
  {
   "cell_type": "code",
   "execution_count": 32,
   "metadata": {},
   "outputs": [],
   "source": [
    "search_19 = sorted(set(tmap_df['검색지명']))"
   ]
  },
  {
   "cell_type": "code",
   "execution_count": 34,
   "metadata": {},
   "outputs": [],
   "source": [
    "search_19.extend(search_df['검색지'].tolist())"
   ]
  },
  {
   "cell_type": "code",
   "execution_count": 39,
   "metadata": {},
   "outputs": [],
   "source": [
    "search_list = sorted(set(search_19))"
   ]
  },
  {
   "cell_type": "code",
   "execution_count": 48,
   "metadata": {},
   "outputs": [],
   "source": [
    "start_url = 'https://map.kakao.com/'\n",
    "browser.get(start_url)\n",
    "browser.maximize_window()"
   ]
  },
  {
   "cell_type": "code",
   "execution_count": 64,
   "metadata": {},
   "outputs": [],
   "source": [
    "search_list = ['전주 ' + value for value in search_list]"
   ]
  },
  {
   "cell_type": "code",
   "execution_count": 67,
   "metadata": {},
   "outputs": [],
   "source": [
    "road_list = []\n",
    "for i in range(len(search_list)) :\n",
    "    browser.find_element_by_xpath('/html/body/div[2]/div/div/form/fieldset/div[1]/input').send_keys(search_list[i])\n",
    "    time.sleep(1.5)\n",
    "    \n",
    "    browser.find_element_by_xpath('/html/body/div[2]/div/div/form/fieldset/div[1]/button').click()\n",
    "    time.sleep(1.5)\n",
    "    try :\n",
    "        \n",
    "        road = browser.find_element_by_css_selector('#info\\.search\\.place\\.list > li:nth-child(1) > div.info_item > div.addr > p:nth-child(1)').text\n",
    "        if road.split(' ')[0] != '전북' :\n",
    "            road_list.append('no')\n",
    "            time.sleep(1.5)\n",
    "        else :\n",
    "            road_list.append(road)\n",
    "            time.sleep(1.5)\n",
    "    except NoSuchElementException :\n",
    "        road_list.append(\"NoExist\")\n",
    "        \n",
    "    browser.find_element_by_xpath('/html/body/div[2]/div/div/form/fieldset/div[1]/input').click()\n",
    "    browser.find_element_by_xpath('/html/body/div[2]/div/div/form/fieldset/div[1]/input').clear()\n",
    "    time.sleep(1.5)"
   ]
  },
  {
   "cell_type": "code",
   "execution_count": 75,
   "metadata": {},
   "outputs": [],
   "source": [
    "search_df = pd.DataFrame([search_list[i].split(' ')[1] for i in range(len(search_list))],columns=['검색지명'])"
   ]
  },
  {
   "cell_type": "code",
   "execution_count": 77,
   "metadata": {},
   "outputs": [],
   "source": [
    "search_df['도로명주소'] = road_list"
   ]
  },
  {
   "cell_type": "code",
   "execution_count": 85,
   "metadata": {},
   "outputs": [],
   "source": [
    "search_df = search_df.loc[search_df['도로명주소'] != 'NoExist'].reset_index(drop = True)"
   ]
  },
  {
   "cell_type": "code",
   "execution_count": 89,
   "metadata": {},
   "outputs": [],
   "source": [
    "start_url = 'https://www.juso.go.kr/openIndexPage.do'\n",
    "browser.get(start_url)\n",
    "browser.maximize_window()"
   ]
  },
  {
   "cell_type": "code",
   "execution_count": 98,
   "metadata": {},
   "outputs": [
    {
     "data": {
      "text/plain": [
       "'전북 전주시 덕진구 인후동2가 237-3'"
      ]
     },
     "execution_count": 98,
     "metadata": {},
     "output_type": "execute_result"
    }
   ],
   "source": [
    "search_df['도로명주소'][36]"
   ]
  },
  {
   "cell_type": "code",
   "execution_count": 94,
   "metadata": {},
   "outputs": [
    {
     "data": {
      "text/plain": [
       "36"
      ]
     },
     "execution_count": 94,
     "metadata": {},
     "output_type": "execute_result"
    }
   ],
   "source": [
    "len(new_list)"
   ]
  },
  {
   "cell_type": "code",
   "execution_count": null,
   "metadata": {},
   "outputs": [],
   "source": [
    "new_list = []\n",
    "for ad in search_df['도로명주소'] :\n",
    "    address = \" \".join(ad.split(' ')[:5])\n",
    "    browser.find_element_by_xpath('/html/body/div[3]/main/div/section[1]/div[1]/form/fieldset/div/div[1]/input[1]').send_keys(address)\n",
    "    browser.find_element_by_xpath('/html/body/div[3]/main/div/section[1]/div[1]/form/fieldset/div/button').click()\n",
    "    time.sleep(1.5)\n",
    "    try :\n",
    "        \n",
    "        browser.find_element_by_css_selector('#list1 > div.addrWrap > div.addAddr').click()\n",
    "        new_list.append(browser.find_element_by_xpath('/html/body/div[2]/div/main/div[3]/div[2]/ol/li/div[2]/ul/li[3]/span[1]').text)\n",
    "        time.sleep(1.5)\n",
    "    except NoSuchElementException :\n",
    "        new_list.append(\"No\")\n",
    "    browser.back()\n",
    "    time.sleep(1.5)"
   ]
  },
  {
   "cell_type": "code",
   "execution_count": 102,
   "metadata": {},
   "outputs": [],
   "source": [
    "index_list = []\n",
    "for i,v in enumerate(new_list) :\n",
    "    if v =='No' :\n",
    "        index_list.append(i)"
   ]
  },
  {
   "cell_type": "code",
   "execution_count": 117,
   "metadata": {},
   "outputs": [],
   "source": [
    "search_df['행정동'] = new_list"
   ]
  },
  {
   "cell_type": "code",
   "execution_count": 119,
   "metadata": {},
   "outputs": [],
   "source": [
    "dong_list = []\n",
    "for i,v in enumerate(search_df['행정동']) :\n",
    "    if v=='No' :\n",
    "        dong_list.append(search_df['도로명주소'][i])\n",
    "    else :\n",
    "        dong_list.append(v.split(' ')[3])"
   ]
  },
  {
   "cell_type": "code",
   "execution_count": 121,
   "metadata": {},
   "outputs": [],
   "source": [
    "search_df['행정동'] = dong_list"
   ]
  },
  {
   "cell_type": "code",
   "execution_count": 127,
   "metadata": {},
   "outputs": [],
   "source": [
    "search_df['행정동'][index_list] = dongs"
   ]
  },
  {
   "cell_type": "code",
   "execution_count": 131,
   "metadata": {},
   "outputs": [
    {
     "data": {
      "text/plain": [
       "array(['효자5동', '중앙동', '효자3동', '효자4동', '풍남동', '호성동', '덕진동', '동서학동', '조촌동',\n",
       "       '삼천3동', '송천2동', '금암1동', '진북동', '노송동', '송천1동', '팔복동', '서신동', '우아2동',\n",
       "       '혁신동', '인후2동', '인후3동', '서서학동', '중화산2동', '평화2동', '중화산1동', '효자2동',\n",
       "       '여의동', '우아1동', '금암2동', '완산동'], dtype=object)"
      ]
     },
     "execution_count": 131,
     "metadata": {},
     "output_type": "execute_result"
    }
   ],
   "source": [
    "search_df['행정동'].unique()"
   ]
  },
  {
   "cell_type": "code",
   "execution_count": 133,
   "metadata": {},
   "outputs": [],
   "source": [
    "search_df.to_csv('tmapdong.csv',index = False)"
   ]
  }
 ],
 "metadata": {
  "kernelspec": {
   "display_name": "Python 3",
   "language": "python",
   "name": "python3"
  },
  "language_info": {
   "codemirror_mode": {
    "name": "ipython",
    "version": 3
   },
   "file_extension": ".py",
   "mimetype": "text/x-python",
   "name": "python",
   "nbconvert_exporter": "python",
   "pygments_lexer": "ipython3",
   "version": "3.7.7"
  }
 },
 "nbformat": 4,
 "nbformat_minor": 4
}
