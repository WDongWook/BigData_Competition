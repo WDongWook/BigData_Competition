{
 "cells": [
  {
   "cell_type": "code",
   "execution_count": 23,
   "metadata": {},
   "outputs": [],
   "source": [
    "import pandas as pd\n",
    "import numpy as np\n",
    "import matplotlib.pyplot as plt\n",
    "import seaborn as sns\n",
    "%matplotlib inline\n",
    "import os\n",
    "import itertools\n",
    "from sklearn.decomposition import PCA\n",
    "from sklearn.preprocessing import StandardScaler,MinMaxScaler\n",
    "from factor_analyzer import FactorAnalyzer\n",
    "from factor_analyzer.factor_analyzer import calculate_bartlett_sphericity,calculate_kmo\n",
    "from sklearn.cluster import AgglomerativeClustering\n",
    "from scipy.cluster.hierarchy import dendrogram,linkage,fcluster\n",
    "from scipy.spatial import distance\n",
    "from sklearn.metrics.pairwise import manhattan_distances\n",
    "from sklearn.neighbors import DistanceMetric\n",
    "from haversine import haversine\n",
    "plt.rc('font',family = 'Malgun Gothic')\n",
    "plt.rc('axes',unicode_minus = False)"
   ]
  },
  {
   "cell_type": "code",
   "execution_count": 5,
   "metadata": {},
   "outputs": [],
   "source": [
    "tmap_dir = os.getcwd() + \"\\\\tmap\\\\\"\n",
    "tmap = pd.DataFrame()\n",
    "for f in os.listdir(tmap_dir) :\n",
    "    tmap = pd.concat([tmap,pd.read_csv(tmap_dir + f)],axis = 0,ignore_index=True)"
   ]
  },
  {
   "cell_type": "code",
   "execution_count": 6,
   "metadata": {},
   "outputs": [],
   "source": [
    "tmap =tmap.rename(columns={\"지역(시도)\" : \"시도\",\"지역(시군구)\" : \"시군구\"})\n",
    "jeonju_list = ['전주시 덕진구', '전주시 완산구']\n",
    "tmap_jj = tmap.query('시군구 in @jeonju_list')\n",
    "tmap_jj = tmap_jj.sort_values(by='일자').reset_index(drop = True)\n",
    "search_list = ['여행/레저', '쇼핑','생활편의']\n",
    "tmap_df = tmap_jj.query('검색지유형1 in @search_list')"
   ]
  },
  {
   "cell_type": "code",
   "execution_count": 7,
   "metadata": {},
   "outputs": [],
   "source": [
    "tmap_dir = os.getcwd() + \"\\\\tmap19\\\\\"\n",
    "tmap = pd.DataFrame()\n",
    "for f in os.listdir(tmap_dir) :\n",
    "    tmap = pd.concat([tmap,pd.read_csv(tmap_dir + f)],axis = 0,ignore_index=True)"
   ]
  },
  {
   "cell_type": "code",
   "execution_count": 8,
   "metadata": {},
   "outputs": [],
   "source": [
    "tmap =tmap.rename(columns={\"지역(시도)\" : \"시도\",\"지역(시군구)\" : \"시군구\"})\n",
    "jeonju_list = ['전주시 덕진구', '전주시 완산구']\n",
    "tmap_jj = tmap.query('시군구 in @jeonju_list')\n",
    "tmap_jj = tmap_jj.sort_values(by='일자').reset_index(drop = True)"
   ]
  },
  {
   "cell_type": "code",
   "execution_count": 9,
   "metadata": {},
   "outputs": [],
   "source": [
    "search_list = ['여행/레저', '쇼핑','생활편의']\n",
    "tmap_jj = tmap_jj.query('검색지유형1 in @search_list')"
   ]
  },
  {
   "cell_type": "code",
   "execution_count": 11,
   "metadata": {},
   "outputs": [],
   "source": [
    "tmap_tot = pd.concat([tmap_jj,tmap_df]).reset_index(drop = True)"
   ]
  },
  {
   "cell_type": "code",
   "execution_count": 13,
   "metadata": {},
   "outputs": [],
   "source": [
    "search_df = pd.read_csv(\"tmapdong.csv\")"
   ]
  },
  {
   "cell_type": "code",
   "execution_count": 14,
   "metadata": {},
   "outputs": [],
   "source": [
    "tmap_tot = pd.merge(tmap_tot,search_df,on='검색지명',how = 'left')"
   ]
  },
  {
   "cell_type": "code",
   "execution_count": 15,
   "metadata": {},
   "outputs": [],
   "source": [
    "tmap_tot['년도'] = pd.to_datetime(tmap_tot['일자'],format = '%Y%m%d').dt.year"
   ]
  },
  {
   "cell_type": "code",
   "execution_count": 16,
   "metadata": {},
   "outputs": [],
   "source": [
    "tour_df = pd.pivot_table(index='행정동',columns='년도',values='시도',aggfunc='count',data = tmap_tot).fillna(0)"
   ]
  },
  {
   "cell_type": "code",
   "execution_count": 17,
   "metadata": {},
   "outputs": [
    {
     "data": {
      "text/html": [
       "<div>\n",
       "<style scoped>\n",
       "    .dataframe tbody tr th:only-of-type {\n",
       "        vertical-align: middle;\n",
       "    }\n",
       "\n",
       "    .dataframe tbody tr th {\n",
       "        vertical-align: top;\n",
       "    }\n",
       "\n",
       "    .dataframe thead th {\n",
       "        text-align: right;\n",
       "    }\n",
       "</style>\n",
       "<table border=\"1\" class=\"dataframe\">\n",
       "  <thead>\n",
       "    <tr style=\"text-align: right;\">\n",
       "      <th></th>\n",
       "      <th>2019년도_검색량</th>\n",
       "      <th>2020년도_검색량</th>\n",
       "    </tr>\n",
       "    <tr>\n",
       "      <th>행정동</th>\n",
       "      <th></th>\n",
       "      <th></th>\n",
       "    </tr>\n",
       "  </thead>\n",
       "  <tbody>\n",
       "    <tr>\n",
       "      <th>금암1동</th>\n",
       "      <td>260.0</td>\n",
       "      <td>27.0</td>\n",
       "    </tr>\n",
       "    <tr>\n",
       "      <th>금암2동</th>\n",
       "      <td>212.0</td>\n",
       "      <td>88.0</td>\n",
       "    </tr>\n",
       "    <tr>\n",
       "      <th>노송동</th>\n",
       "      <td>415.0</td>\n",
       "      <td>248.0</td>\n",
       "    </tr>\n",
       "    <tr>\n",
       "      <th>덕진동</th>\n",
       "      <td>1320.0</td>\n",
       "      <td>708.0</td>\n",
       "    </tr>\n",
       "    <tr>\n",
       "      <th>동서학동</th>\n",
       "      <td>145.0</td>\n",
       "      <td>75.0</td>\n",
       "    </tr>\n",
       "  </tbody>\n",
       "</table>\n",
       "</div>"
      ],
      "text/plain": [
       "      2019년도_검색량  2020년도_검색량\n",
       "행정동                         \n",
       "금암1동       260.0        27.0\n",
       "금암2동       212.0        88.0\n",
       "노송동        415.0       248.0\n",
       "덕진동       1320.0       708.0\n",
       "동서학동       145.0        75.0"
      ]
     },
     "execution_count": 17,
     "metadata": {},
     "output_type": "execute_result"
    }
   ],
   "source": [
    "tour_df.columns = [str(i) + \"년도_검색량\" for i in tour_df.columns]\n",
    "tour_df.head()"
   ]
  },
  {
   "cell_type": "code",
   "execution_count": 2,
   "metadata": {},
   "outputs": [],
   "source": [
    "jeonju_df = pd.read_csv('전주.csv')"
   ]
  },
  {
   "cell_type": "code",
   "execution_count": null,
   "metadata": {},
   "outputs": [],
   "source": [
    "jeonju_df = pd.merge(jeonju_df,tour_df,on='행정동',how='left').fillna(0).set_index(\"행정동\")"
   ]
  },
  {
   "cell_type": "code",
   "execution_count": 26,
   "metadata": {},
   "outputs": [],
   "source": [
    "jeonju_df.iloc[:,-2:] = jeonju_df.iloc[:,-2:].astype('int64')"
   ]
  },
  {
   "cell_type": "code",
   "execution_count": 30,
   "metadata": {},
   "outputs": [
    {
     "data": {
      "text/plain": [
       "array(['교통편의', '쇼핑', '여행/레저', '생활편의', '그룹핑부속', '공공편의', '건물/시설', '기업/단체',\n",
       "       '의료편의', '금융편의', 'AOI', '엔트랙'], dtype=object)"
      ]
     },
     "execution_count": 30,
     "metadata": {},
     "output_type": "execute_result"
    }
   ],
   "source": [
    "tmap['검색지유형1'].unique()"
   ]
  },
  {
   "cell_type": "code",
   "execution_count": 32,
   "metadata": {},
   "outputs": [],
   "source": [
    "jeonju_df.to_csv(\"전주최종.csv\")"
   ]
  },
  {
   "cell_type": "code",
   "execution_count": 4,
   "metadata": {
    "scrolled": true
   },
   "outputs": [],
   "source": [
    "final_df= pd.read_csv('통합데이터-final.csv',encoding = 'cp949')"
   ]
  },
  {
   "cell_type": "code",
   "execution_count": null,
   "metadata": {},
   "outputs": [],
   "source": [
    "final_df =  pd.merge(jj_df[['2020년도_검색량']].reset_index(),final_df,on='행정동').iloc[:,:-1].set_index(\"행정동\")"
   ]
  },
  {
   "cell_type": "code",
   "execution_count": 7,
   "metadata": {},
   "outputs": [],
   "source": [
    "final_df =  final_df.set_index(\"행정동\")"
   ]
  },
  {
   "cell_type": "code",
   "execution_count": 8,
   "metadata": {
    "scrolled": true
   },
   "outputs": [],
   "source": [
    "final_df.rename(columns = {\"박미전수\" : \"문화시설수\"},inplace = True)"
   ]
  },
  {
   "cell_type": "code",
   "execution_count": 9,
   "metadata": {},
   "outputs": [],
   "source": [
    "final_df['문화시설수'] = final_df['공연장수'] + final_df['문화시설수']"
   ]
  },
  {
   "cell_type": "code",
   "execution_count": 10,
   "metadata": {},
   "outputs": [],
   "source": [
    "del final_df['공연장수']"
   ]
  },
  {
   "cell_type": "code",
   "execution_count": 11,
   "metadata": {
    "scrolled": true
   },
   "outputs": [],
   "source": [
    "final_df['숙박수'] = final_df['민박숙박업소수'] + final_df['호텔수'] + final_df['펜션수']"
   ]
  },
  {
   "cell_type": "code",
   "execution_count": 12,
   "metadata": {},
   "outputs": [],
   "source": [
    "finals = final_df.drop(['민박숙박업소수','호텔수','펜션수'],axis = 1)"
   ]
  },
  {
   "cell_type": "code",
   "execution_count": 13,
   "metadata": {},
   "outputs": [],
   "source": [
    "finals['스토어수'] = finals['슈퍼마트수'] + finals['편의점수']\n",
    "finals.drop(['슈퍼마트수','편의점수'],axis = 1,inplace = True)"
   ]
  },
  {
   "cell_type": "code",
   "execution_count": 14,
   "metadata": {},
   "outputs": [],
   "source": [
    "finals['교통'] = finals['버스정류장수'] + finals['주차장수']"
   ]
  },
  {
   "cell_type": "code",
   "execution_count": 15,
   "metadata": {},
   "outputs": [],
   "source": [
    "finals.drop(['버스정류장수','주차장수'],axis = 1,inplace = True)"
   ]
  },
  {
   "cell_type": "code",
   "execution_count": 16,
   "metadata": {},
   "outputs": [],
   "source": [
    "scaler = StandardScaler()"
   ]
  },
  {
   "cell_type": "code",
   "execution_count": 17,
   "metadata": {},
   "outputs": [],
   "source": [
    "scaler_df = pd.DataFrame(scaler.fit_transform(finals),index=finals.index,columns=finals.columns)"
   ]
  },
  {
   "cell_type": "code",
   "execution_count": 18,
   "metadata": {
    "scrolled": false
   },
   "outputs": [
    {
     "data": {
      "text/plain": [
       "Index(['전주역거리', '전주한옥마을거리', '고속버스터미널거리', '검색량', '가로수길수', '전통시장수', '지역특화거리점포수',\n",
       "       '점포수', '향토문화유적', '식당수', '카페수', '문화시설수', 'cls', '숙박수', '스토어수', '교통'],\n",
       "      dtype='object')"
      ]
     },
     "execution_count": 18,
     "metadata": {},
     "output_type": "execute_result"
    }
   ],
   "source": [
    "scaler_df.columns"
   ]
  },
  {
   "cell_type": "code",
   "execution_count": 19,
   "metadata": {},
   "outputs": [
    {
     "data": {
      "text/plain": [
       "Index(['전주역거리', '전주한옥마을거리', '고속버스터미널거리', '검색량', '가로수길수', '전통시장수', '지역특화거리점포수',\n",
       "       '점포수', '향토문화유적', '식당수', '카페수', '문화시설수', 'cls', '숙박수', '스토어수', '교통'],\n",
       "      dtype='object')"
      ]
     },
     "execution_count": 19,
     "metadata": {},
     "output_type": "execute_result"
    }
   ],
   "source": [
    "scaler_df.columns"
   ]
  },
  {
   "cell_type": "code",
   "execution_count": 20,
   "metadata": {},
   "outputs": [],
   "source": [
    "scaler_df2 = scaler_df[['전주역거리', '전주한옥마을거리', '고속버스터미널거리', '검색량', '식당수', '카페수', '문화시설수', '숙박수', '스토어수', '교통']]"
   ]
  },
  {
   "cell_type": "code",
   "execution_count": 21,
   "metadata": {},
   "outputs": [],
   "source": [
    "from sklearn.cluster import KMeans"
   ]
  },
  {
   "cell_type": "code",
   "execution_count": 395,
   "metadata": {},
   "outputs": [
    {
     "data": {
      "image/png": "[encoded data removed]",
      "text/plain": [
       "<Figure size 432x288 with 1 Axes>"
      ]
     },
     "metadata": {
      "needs_background": "light"
     },
     "output_type": "display_data"
    }
   ],
   "source": [
    "sum_of_squared_distances = []\n",
    "k = range(1,10)\n",
    "for i in k :\n",
    "    km = KMeans(n_clusters=i)\n",
    "    km = km.fit(scaler_df2)\n",
    "    sum_of_squared_distances.append(km.inertia_)\n",
    "plt.plot(k,sum_of_squared_distances,'bx-')\n",
    "plt.xlabel('K')\n",
    "plt.ylabel('Sum of Squared Distances')\n",
    "plt.title(\"Elbow Method For Optimal K\")\n",
    "plt.show()"
   ]
  },
  {
   "cell_type": "code",
   "execution_count": 24,
   "metadata": {},
   "outputs": [],
   "source": [
    "from sklearn_extra.cluster import KMedoids"
   ]
  },
  {
   "cell_type": "code",
   "execution_count": 25,
   "metadata": {},
   "outputs": [
    {
     "data": {
      "image/png": "[encoded data removed]",
      "text/plain": [
       "<Figure size 432x288 with 1 Axes>"
      ]
     },
     "metadata": {
      "needs_background": "light"
     },
     "output_type": "display_data"
    }
   ],
   "source": [
    "sum_of_squared_distances = []\n",
    "k = range(1,10)\n",
    "for i in k :\n",
    "    km = KMedoids(n_clusters=i)\n",
    "    km = km.fit(scaler_df2)\n",
    "    sum_of_squared_distances.append(km.inertia_)\n",
    "plt.plot(k,sum_of_squared_distances,'bx-')\n",
    "plt.xlabel('K')\n",
    "plt.ylabel('Sum of Squared Distances')\n",
    "plt.title(\"Elbow Method For Optimal K\")\n",
    "plt.show()"
   ]
  },
  {
   "cell_type": "code",
   "execution_count": 26,
   "metadata": {},
   "outputs": [
    {
     "data": {
      "text/plain": [
       "[105.18131728427969,\n",
       " 90.78641145843935,\n",
       " 83.07615759856719,\n",
       " 74.76578444456607,\n",
       " 71.31177045145846,\n",
       " 69.93791479051438,\n",
       " 67.52507411274355,\n",
       " 66.46609855621749,\n",
       " 64.70172763128507]"
      ]
     },
     "execution_count": 26,
     "metadata": {},
     "output_type": "execute_result"
    }
   ],
   "source": [
    "sum_of_squared_distances"
   ]
  },
  {
   "cell_type": "code",
   "execution_count": 397,
   "metadata": {},
   "outputs": [],
   "source": [
    "    km = KMedoids(n_clusters=4)\n",
    "    km = km.fit(scaler_df2)"
   ]
  },
  {
   "cell_type": "code",
   "execution_count": 398,
   "metadata": {},
   "outputs": [
    {
     "name": "stderr",
     "output_type": "stream",
     "text": [
      "C:\\Users\\qhadk\\AppData\\Local\\Continuum\\anaconda3\\lib\\site-packages\\ipykernel_launcher.py:1: SettingWithCopyWarning: \n",
      "A value is trying to be set on a copy of a slice from a DataFrame.\n",
      "Try using .loc[row_indexer,col_indexer] = value instead\n",
      "\n",
      "See the caveats in the documentation: https://pandas.pydata.org/pandas-docs/stable/user_guide/indexing.html#returning-a-view-versus-a-copy\n",
      "  \"\"\"Entry point for launching an IPython kernel.\n"
     ]
    }
   ],
   "source": [
    "scaler_df2['kmedoids'] = km.labels_"
   ]
  },
  {
   "cell_type": "code",
   "execution_count": 399,
   "metadata": {},
   "outputs": [
    {
     "name": "stderr",
     "output_type": "stream",
     "text": [
      "C:\\Users\\qhadk\\AppData\\Local\\Continuum\\anaconda3\\lib\\site-packages\\ipykernel_launcher.py:2: SettingWithCopyWarning: \n",
      "A value is trying to be set on a copy of a slice from a DataFrame.\n",
      "Try using .loc[row_indexer,col_indexer] = value instead\n",
      "\n",
      "See the caveats in the documentation: https://pandas.pydata.org/pandas-docs/stable/user_guide/indexing.html#returning-a-view-versus-a-copy\n",
      "  \n"
     ]
    }
   ],
   "source": [
    "km = KMeans(n_clusters=4)\n",
    "scaler_df2['kmeans'] = km.fit(scaler_df2.iloc[:,:-1]).labels_"
   ]
  },
  {
   "cell_type": "code",
   "execution_count": 400,
   "metadata": {
    "scrolled": false
   },
   "outputs": [
    {
     "name": "stdout",
     "output_type": "stream",
     "text": [
      "Cluster 0의 행정동 : ['동서학동', '삼천1동', '서서학동', '완산동', '중화산1동', '팔복동', '평화1동', '효자1동', '효자2동', '효자3동']\n",
      "\n",
      "Cluster 1의 행정동 : ['금암1동', '금암2동', '노송동', '우아1동', '우아2동', '인후1동', '인후2동', '인후3동', '중화산2동', '진북동', '호성동']\n",
      "\n",
      "Cluster 2의 행정동 : ['덕진동', '서신동', '송천1동', '중앙동', '풍남동', '효자4동', '효자5동']\n",
      "\n",
      "Cluster 3의 행정동 : ['삼천2동', '삼천3동', '송천2동', '여의동', '조촌동', '평화2동', '혁신동']\n",
      "\n"
     ]
    }
   ],
   "source": [
    "for i in range(scaler_df2['kmedoids'].nunique()) :\n",
    "    print(\"Cluster {}의 행정동 : {}\\n\".format(i,scaler_df2.loc[scaler_df2['kmedoids']== i].index.tolist()))"
   ]
  },
  {
   "cell_type": "code",
   "execution_count": 411,
   "metadata": {},
   "outputs": [
    {
     "data": {
      "text/plain": [
       "<Figure size 432x288 with 0 Axes>"
      ]
     },
     "metadata": {},
     "output_type": "display_data"
    },
    {
     "data": {
      "image/png": "[encoded data removed]",
      "text/plain": [
       "<Figure size 1008x1008 with 4 Axes>"
      ]
     },
     "metadata": {
      "needs_background": "light"
     },
     "output_type": "display_data"
    }
   ],
   "source": [
    "i = 0\n",
    "plt.figure()\n",
    "fig,ax = plt.subplots(2,2,figsize = (14,14))\n",
    "for num in scaler_df2['kmedoids'].unique() :   \n",
    "    i+=1\n",
    "    plt.subplot(2,2,i)\n",
    "    plt.title(\"Cluster{}\".format(num),fontsize = 20)\n",
    "    scaler_df2.loc[scaler_df2['kmedoids'] == num].iloc[:,:-2].mean().plot.bar()\n",
    "    locs,labels = plt.xticks()\n",
    "    plt.ylim([-2,2])\n",
    "    plt.subplots_adjust(hspace =.6, top = 1)\n",
    "    plt.tick_params(axis = 'both',which = 'major',labelsize = 12)\n",
    "plt.show()"
   ]
  },
  {
   "cell_type": "code",
   "execution_count": 425,
   "metadata": {},
   "outputs": [],
   "source": [
    "finals['cluster'] = scaler_df2['kmedoids'].tolist()"
   ]
  },
  {
   "cell_type": "code",
   "execution_count": 440,
   "metadata": {},
   "outputs": [],
   "source": [
    "cluster2 = finals.loc[(finals['cluster']==2) & (finals['cluster'].index !='풍남동')]"
   ]
  },
  {
   "cell_type": "code",
   "execution_count": 454,
   "metadata": {},
   "outputs": [
    {
     "data": {
      "text/plain": [
       "행정동\n",
       "덕진동     50.0\n",
       "서신동     52.0\n",
       "송천1동    63.5\n",
       "중앙동     39.5\n",
       "효자4동    59.0\n",
       "효자5동    51.0\n",
       "dtype: float64"
      ]
     },
     "execution_count": 454,
     "metadata": {},
     "output_type": "execute_result"
    }
   ],
   "source": [
    "cluster2.iloc[:,:3].rank().sum(axis = 1) + cluster2.iloc[:,3:-1].rank(ascending = False).sum(axis = 1)"
   ]
  }
 ],
 "metadata": {
  "kernelspec": {
   "display_name": "Python 3",
   "language": "python",
   "name": "python3"
  },
  "language_info": {
   "codemirror_mode": {
    "name": "ipython",
    "version": 3
   },
   "file_extension": ".py",
   "mimetype": "text/x-python",
   "name": "python",
   "nbconvert_exporter": "python",
   "pygments_lexer": "ipython3",
   "version": "3.7.7"
  }
 },
 "nbformat": 4,
 "nbformat_minor": 4
}
